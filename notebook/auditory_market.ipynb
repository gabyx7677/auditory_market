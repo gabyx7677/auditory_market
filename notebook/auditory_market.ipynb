{
 "cells": [
  {
   "cell_type": "code",
   "execution_count": 61,
   "id": "c2ff2a16",
   "metadata": {},
   "outputs": [],
   "source": [
    "# Se importan todas las librerías necesarias\n",
    "import pandas as pd\n",
    "import random\n",
    "import time\n",
    "import numpy as np\n",
    "import smtplib, os\n",
    "from email.message import EmailMessage\n",
    "from email.mime.multipart import MIMEMultipart\n",
    "from email.mime.base import MIMEBase\n",
    "from email.mime.text import MIMEText\n",
    "from email import encoders\n",
    "from dotenv import load_dotenv\n",
    "load_dotenv()\n",
    "from datetime import datetime"
   ]
  },
  {
   "cell_type": "code",
   "execution_count": 62,
   "id": "692ee358",
   "metadata": {},
   "outputs": [],
   "source": [
    "# Se cargan datos simulados desde los csv correspondientes\n",
    "clientes = pd.read_csv('../datasets/csv_simulados_full/clientes.csv')\n",
    "categorias = pd.read_csv('../datasets/csv_simulados_full/categorias.csv')\n",
    "cliente_categoria = pd.read_csv('../datasets/csv_simulados_full/cliente_categoria.csv')\n",
    "auditorias = pd.read_csv('../datasets/csv_simulados_full/auditorias.csv')\n",
    "fotos_cargadas = pd.read_csv('../datasets/csv_simulados_full/fotos_cargadas.csv')"
   ]
  },
  {
   "cell_type": "code",
   "execution_count": 63,
   "id": "04e48b05",
   "metadata": {},
   "outputs": [
    {
     "data": {
      "application/vnd.microsoft.datawrangler.viewer.v0+json": {
       "columns": [
        {
         "name": "index",
         "rawType": "int64",
         "type": "integer"
        },
        {
         "name": "cliente_id",
         "rawType": "int64",
         "type": "integer"
        },
        {
         "name": "cliente_nombre",
         "rawType": "object",
         "type": "string"
        }
       ],
       "ref": "049bae74-d25c-4597-b81b-a682bef5595c",
       "rows": [
        [
         "0",
         "1",
         "Cliente_1"
        ],
        [
         "1",
         "2",
         "Cliente_2"
        ],
        [
         "2",
         "3",
         "Cliente_3"
        ],
        [
         "3",
         "4",
         "Cliente_4"
        ],
        [
         "4",
         "5",
         "Cliente_5"
        ],
        [
         "5",
         "6",
         "Cliente_6"
        ],
        [
         "6",
         "7",
         "Cliente_7"
        ],
        [
         "7",
         "8",
         "Cliente_8"
        ],
        [
         "8",
         "9",
         "Cliente_9"
        ],
        [
         "9",
         "10",
         "Cliente_10"
        ],
        [
         "10",
         "11",
         "Cliente_11"
        ],
        [
         "11",
         "12",
         "Cliente_12"
        ],
        [
         "12",
         "13",
         "Cliente_13"
        ],
        [
         "13",
         "14",
         "Cliente_14"
        ],
        [
         "14",
         "15",
         "Cliente_15"
        ],
        [
         "15",
         "16",
         "Cliente_16"
        ],
        [
         "16",
         "17",
         "Cliente_17"
        ],
        [
         "17",
         "18",
         "Cliente_18"
        ],
        [
         "18",
         "19",
         "Cliente_19"
        ],
        [
         "19",
         "20",
         "Cliente_20"
        ],
        [
         "20",
         "21",
         "Cliente_21"
        ],
        [
         "21",
         "22",
         "Cliente_22"
        ],
        [
         "22",
         "23",
         "Cliente_23"
        ],
        [
         "23",
         "24",
         "Cliente_24"
        ],
        [
         "24",
         "25",
         "Cliente_25"
        ],
        [
         "25",
         "26",
         "Cliente_26"
        ],
        [
         "26",
         "27",
         "Cliente_27"
        ],
        [
         "27",
         "28",
         "Cliente_28"
        ],
        [
         "28",
         "29",
         "Cliente_29"
        ],
        [
         "29",
         "30",
         "Cliente_30"
        ]
       ],
       "shape": {
        "columns": 2,
        "rows": 30
       }
      },
      "text/html": [
       "<div>\n",
       "<style scoped>\n",
       "    .dataframe tbody tr th:only-of-type {\n",
       "        vertical-align: middle;\n",
       "    }\n",
       "\n",
       "    .dataframe tbody tr th {\n",
       "        vertical-align: top;\n",
       "    }\n",
       "\n",
       "    .dataframe thead th {\n",
       "        text-align: right;\n",
       "    }\n",
       "</style>\n",
       "<table border=\"1\" class=\"dataframe\">\n",
       "  <thead>\n",
       "    <tr style=\"text-align: right;\">\n",
       "      <th></th>\n",
       "      <th>cliente_id</th>\n",
       "      <th>cliente_nombre</th>\n",
       "    </tr>\n",
       "  </thead>\n",
       "  <tbody>\n",
       "    <tr>\n",
       "      <th>0</th>\n",
       "      <td>1</td>\n",
       "      <td>Cliente_1</td>\n",
       "    </tr>\n",
       "    <tr>\n",
       "      <th>1</th>\n",
       "      <td>2</td>\n",
       "      <td>Cliente_2</td>\n",
       "    </tr>\n",
       "    <tr>\n",
       "      <th>2</th>\n",
       "      <td>3</td>\n",
       "      <td>Cliente_3</td>\n",
       "    </tr>\n",
       "    <tr>\n",
       "      <th>3</th>\n",
       "      <td>4</td>\n",
       "      <td>Cliente_4</td>\n",
       "    </tr>\n",
       "    <tr>\n",
       "      <th>4</th>\n",
       "      <td>5</td>\n",
       "      <td>Cliente_5</td>\n",
       "    </tr>\n",
       "    <tr>\n",
       "      <th>5</th>\n",
       "      <td>6</td>\n",
       "      <td>Cliente_6</td>\n",
       "    </tr>\n",
       "    <tr>\n",
       "      <th>6</th>\n",
       "      <td>7</td>\n",
       "      <td>Cliente_7</td>\n",
       "    </tr>\n",
       "    <tr>\n",
       "      <th>7</th>\n",
       "      <td>8</td>\n",
       "      <td>Cliente_8</td>\n",
       "    </tr>\n",
       "    <tr>\n",
       "      <th>8</th>\n",
       "      <td>9</td>\n",
       "      <td>Cliente_9</td>\n",
       "    </tr>\n",
       "    <tr>\n",
       "      <th>9</th>\n",
       "      <td>10</td>\n",
       "      <td>Cliente_10</td>\n",
       "    </tr>\n",
       "    <tr>\n",
       "      <th>10</th>\n",
       "      <td>11</td>\n",
       "      <td>Cliente_11</td>\n",
       "    </tr>\n",
       "    <tr>\n",
       "      <th>11</th>\n",
       "      <td>12</td>\n",
       "      <td>Cliente_12</td>\n",
       "    </tr>\n",
       "    <tr>\n",
       "      <th>12</th>\n",
       "      <td>13</td>\n",
       "      <td>Cliente_13</td>\n",
       "    </tr>\n",
       "    <tr>\n",
       "      <th>13</th>\n",
       "      <td>14</td>\n",
       "      <td>Cliente_14</td>\n",
       "    </tr>\n",
       "    <tr>\n",
       "      <th>14</th>\n",
       "      <td>15</td>\n",
       "      <td>Cliente_15</td>\n",
       "    </tr>\n",
       "    <tr>\n",
       "      <th>15</th>\n",
       "      <td>16</td>\n",
       "      <td>Cliente_16</td>\n",
       "    </tr>\n",
       "    <tr>\n",
       "      <th>16</th>\n",
       "      <td>17</td>\n",
       "      <td>Cliente_17</td>\n",
       "    </tr>\n",
       "    <tr>\n",
       "      <th>17</th>\n",
       "      <td>18</td>\n",
       "      <td>Cliente_18</td>\n",
       "    </tr>\n",
       "    <tr>\n",
       "      <th>18</th>\n",
       "      <td>19</td>\n",
       "      <td>Cliente_19</td>\n",
       "    </tr>\n",
       "    <tr>\n",
       "      <th>19</th>\n",
       "      <td>20</td>\n",
       "      <td>Cliente_20</td>\n",
       "    </tr>\n",
       "    <tr>\n",
       "      <th>20</th>\n",
       "      <td>21</td>\n",
       "      <td>Cliente_21</td>\n",
       "    </tr>\n",
       "    <tr>\n",
       "      <th>21</th>\n",
       "      <td>22</td>\n",
       "      <td>Cliente_22</td>\n",
       "    </tr>\n",
       "    <tr>\n",
       "      <th>22</th>\n",
       "      <td>23</td>\n",
       "      <td>Cliente_23</td>\n",
       "    </tr>\n",
       "    <tr>\n",
       "      <th>23</th>\n",
       "      <td>24</td>\n",
       "      <td>Cliente_24</td>\n",
       "    </tr>\n",
       "    <tr>\n",
       "      <th>24</th>\n",
       "      <td>25</td>\n",
       "      <td>Cliente_25</td>\n",
       "    </tr>\n",
       "    <tr>\n",
       "      <th>25</th>\n",
       "      <td>26</td>\n",
       "      <td>Cliente_26</td>\n",
       "    </tr>\n",
       "    <tr>\n",
       "      <th>26</th>\n",
       "      <td>27</td>\n",
       "      <td>Cliente_27</td>\n",
       "    </tr>\n",
       "    <tr>\n",
       "      <th>27</th>\n",
       "      <td>28</td>\n",
       "      <td>Cliente_28</td>\n",
       "    </tr>\n",
       "    <tr>\n",
       "      <th>28</th>\n",
       "      <td>29</td>\n",
       "      <td>Cliente_29</td>\n",
       "    </tr>\n",
       "    <tr>\n",
       "      <th>29</th>\n",
       "      <td>30</td>\n",
       "      <td>Cliente_30</td>\n",
       "    </tr>\n",
       "  </tbody>\n",
       "</table>\n",
       "</div>"
      ],
      "text/plain": [
       "    cliente_id cliente_nombre\n",
       "0            1      Cliente_1\n",
       "1            2      Cliente_2\n",
       "2            3      Cliente_3\n",
       "3            4      Cliente_4\n",
       "4            5      Cliente_5\n",
       "5            6      Cliente_6\n",
       "6            7      Cliente_7\n",
       "7            8      Cliente_8\n",
       "8            9      Cliente_9\n",
       "9           10     Cliente_10\n",
       "10          11     Cliente_11\n",
       "11          12     Cliente_12\n",
       "12          13     Cliente_13\n",
       "13          14     Cliente_14\n",
       "14          15     Cliente_15\n",
       "15          16     Cliente_16\n",
       "16          17     Cliente_17\n",
       "17          18     Cliente_18\n",
       "18          19     Cliente_19\n",
       "19          20     Cliente_20\n",
       "20          21     Cliente_21\n",
       "21          22     Cliente_22\n",
       "22          23     Cliente_23\n",
       "23          24     Cliente_24\n",
       "24          25     Cliente_25\n",
       "25          26     Cliente_26\n",
       "26          27     Cliente_27\n",
       "27          28     Cliente_28\n",
       "28          29     Cliente_29\n",
       "29          30     Cliente_30"
      ]
     },
     "execution_count": 63,
     "metadata": {},
     "output_type": "execute_result"
    }
   ],
   "source": [
    "# Tabla de cliente, 30 registros\n",
    "clientes"
   ]
  },
  {
   "cell_type": "code",
   "execution_count": 64,
   "id": "5d306f94",
   "metadata": {},
   "outputs": [
    {
     "data": {
      "application/vnd.microsoft.datawrangler.viewer.v0+json": {
       "columns": [
        {
         "name": "index",
         "rawType": "int64",
         "type": "integer"
        },
        {
         "name": "categoria_id",
         "rawType": "int64",
         "type": "integer"
        },
        {
         "name": "categoria_nombre",
         "rawType": "object",
         "type": "string"
        }
       ],
       "ref": "b32a80ce-a180-4e0a-afac-942755212064",
       "rows": [
        [
         "0",
         "1",
         "Bebidas"
        ],
        [
         "1",
         "2",
         "Lácteos"
        ],
        [
         "2",
         "3",
         "Snacks"
        ],
        [
         "3",
         "4",
         "Carnes"
        ],
        [
         "4",
         "5",
         "Limpieza"
        ],
        [
         "5",
         "6",
         "Frutas"
        ],
        [
         "6",
         "7",
         "Verduras"
        ],
        [
         "7",
         "8",
         "Panadería"
        ],
        [
         "8",
         "9",
         "Tecnología"
        ],
        [
         "9",
         "10",
         "Electrodomésticos"
        ],
        [
         "10",
         "11",
         "Aseo Personal"
        ],
        [
         "11",
         "12",
         "Cuidado del Hogar"
        ],
        [
         "12",
         "13",
         "Juguetes"
        ],
        [
         "13",
         "14",
         "Ropa"
        ],
        [
         "14",
         "15",
         "Accesorios"
        ]
       ],
       "shape": {
        "columns": 2,
        "rows": 15
       }
      },
      "text/html": [
       "<div>\n",
       "<style scoped>\n",
       "    .dataframe tbody tr th:only-of-type {\n",
       "        vertical-align: middle;\n",
       "    }\n",
       "\n",
       "    .dataframe tbody tr th {\n",
       "        vertical-align: top;\n",
       "    }\n",
       "\n",
       "    .dataframe thead th {\n",
       "        text-align: right;\n",
       "    }\n",
       "</style>\n",
       "<table border=\"1\" class=\"dataframe\">\n",
       "  <thead>\n",
       "    <tr style=\"text-align: right;\">\n",
       "      <th></th>\n",
       "      <th>categoria_id</th>\n",
       "      <th>categoria_nombre</th>\n",
       "    </tr>\n",
       "  </thead>\n",
       "  <tbody>\n",
       "    <tr>\n",
       "      <th>0</th>\n",
       "      <td>1</td>\n",
       "      <td>Bebidas</td>\n",
       "    </tr>\n",
       "    <tr>\n",
       "      <th>1</th>\n",
       "      <td>2</td>\n",
       "      <td>Lácteos</td>\n",
       "    </tr>\n",
       "    <tr>\n",
       "      <th>2</th>\n",
       "      <td>3</td>\n",
       "      <td>Snacks</td>\n",
       "    </tr>\n",
       "    <tr>\n",
       "      <th>3</th>\n",
       "      <td>4</td>\n",
       "      <td>Carnes</td>\n",
       "    </tr>\n",
       "    <tr>\n",
       "      <th>4</th>\n",
       "      <td>5</td>\n",
       "      <td>Limpieza</td>\n",
       "    </tr>\n",
       "    <tr>\n",
       "      <th>5</th>\n",
       "      <td>6</td>\n",
       "      <td>Frutas</td>\n",
       "    </tr>\n",
       "    <tr>\n",
       "      <th>6</th>\n",
       "      <td>7</td>\n",
       "      <td>Verduras</td>\n",
       "    </tr>\n",
       "    <tr>\n",
       "      <th>7</th>\n",
       "      <td>8</td>\n",
       "      <td>Panadería</td>\n",
       "    </tr>\n",
       "    <tr>\n",
       "      <th>8</th>\n",
       "      <td>9</td>\n",
       "      <td>Tecnología</td>\n",
       "    </tr>\n",
       "    <tr>\n",
       "      <th>9</th>\n",
       "      <td>10</td>\n",
       "      <td>Electrodomésticos</td>\n",
       "    </tr>\n",
       "    <tr>\n",
       "      <th>10</th>\n",
       "      <td>11</td>\n",
       "      <td>Aseo Personal</td>\n",
       "    </tr>\n",
       "    <tr>\n",
       "      <th>11</th>\n",
       "      <td>12</td>\n",
       "      <td>Cuidado del Hogar</td>\n",
       "    </tr>\n",
       "    <tr>\n",
       "      <th>12</th>\n",
       "      <td>13</td>\n",
       "      <td>Juguetes</td>\n",
       "    </tr>\n",
       "    <tr>\n",
       "      <th>13</th>\n",
       "      <td>14</td>\n",
       "      <td>Ropa</td>\n",
       "    </tr>\n",
       "    <tr>\n",
       "      <th>14</th>\n",
       "      <td>15</td>\n",
       "      <td>Accesorios</td>\n",
       "    </tr>\n",
       "  </tbody>\n",
       "</table>\n",
       "</div>"
      ],
      "text/plain": [
       "    categoria_id   categoria_nombre\n",
       "0              1            Bebidas\n",
       "1              2            Lácteos\n",
       "2              3             Snacks\n",
       "3              4             Carnes\n",
       "4              5           Limpieza\n",
       "5              6             Frutas\n",
       "6              7           Verduras\n",
       "7              8          Panadería\n",
       "8              9         Tecnología\n",
       "9             10  Electrodomésticos\n",
       "10            11      Aseo Personal\n",
       "11            12  Cuidado del Hogar\n",
       "12            13           Juguetes\n",
       "13            14               Ropa\n",
       "14            15         Accesorios"
      ]
     },
     "execution_count": 64,
     "metadata": {},
     "output_type": "execute_result"
    }
   ],
   "source": [
    "# Tabla de categorías, 15 registros\n",
    "categorias"
   ]
  },
  {
   "cell_type": "code",
   "execution_count": 65,
   "id": "55f72dc2",
   "metadata": {},
   "outputs": [
    {
     "data": {
      "application/vnd.microsoft.datawrangler.viewer.v0+json": {
       "columns": [
        {
         "name": "index",
         "rawType": "int64",
         "type": "integer"
        },
        {
         "name": "cliente_id",
         "rawType": "int64",
         "type": "integer"
        },
        {
         "name": "categoria_id",
         "rawType": "int64",
         "type": "integer"
        }
       ],
       "ref": "70ee0f04-37c8-4e70-a0d4-5b35a5b75ae1",
       "rows": [
        [
         "0",
         "1",
         "5"
        ],
        [
         "1",
         "1",
         "2"
        ],
        [
         "2",
         "2",
         "4"
        ],
        [
         "3",
         "2",
         "8"
        ],
        [
         "4",
         "3",
         "3"
        ],
        [
         "5",
         "3",
         "12"
        ],
        [
         "6",
         "3",
         "5"
        ],
        [
         "7",
         "3",
         "6"
        ],
        [
         "8",
         "4",
         "3"
        ],
        [
         "9",
         "4",
         "9"
        ],
        [
         "10",
         "4",
         "12"
        ],
        [
         "11",
         "4",
         "1"
        ],
        [
         "12",
         "5",
         "9"
        ],
        [
         "13",
         "5",
         "5"
        ],
        [
         "14",
         "5",
         "6"
        ],
        [
         "15",
         "5",
         "13"
        ],
        [
         "16",
         "5",
         "11"
        ],
        [
         "17",
         "5",
         "2"
        ],
        [
         "18",
         "5",
         "7"
        ],
        [
         "19",
         "6",
         "1"
        ],
        [
         "20",
         "6",
         "5"
        ],
        [
         "21",
         "6",
         "9"
        ],
        [
         "22",
         "7",
         "12"
        ],
        [
         "23",
         "7",
         "11"
        ],
        [
         "24",
         "7",
         "7"
        ],
        [
         "25",
         "7",
         "10"
        ],
        [
         "26",
         "7",
         "8"
        ],
        [
         "27",
         "8",
         "7"
        ],
        [
         "28",
         "8",
         "1"
        ],
        [
         "29",
         "8",
         "3"
        ],
        [
         "30",
         "8",
         "13"
        ],
        [
         "31",
         "8",
         "9"
        ],
        [
         "32",
         "8",
         "4"
        ],
        [
         "33",
         "8",
         "15"
        ],
        [
         "34",
         "9",
         "11"
        ],
        [
         "35",
         "9",
         "12"
        ],
        [
         "36",
         "10",
         "15"
        ],
        [
         "37",
         "10",
         "4"
        ],
        [
         "38",
         "11",
         "6"
        ],
        [
         "39",
         "11",
         "1"
        ],
        [
         "40",
         "12",
         "3"
        ],
        [
         "41",
         "12",
         "4"
        ],
        [
         "42",
         "12",
         "14"
        ],
        [
         "43",
         "12",
         "1"
        ],
        [
         "44",
         "12",
         "11"
        ],
        [
         "45",
         "12",
         "6"
        ],
        [
         "46",
         "13",
         "4"
        ],
        [
         "47",
         "13",
         "8"
        ],
        [
         "48",
         "13",
         "15"
        ],
        [
         "49",
         "13",
         "6"
        ]
       ],
       "shape": {
        "columns": 2,
        "rows": 124
       }
      },
      "text/html": [
       "<div>\n",
       "<style scoped>\n",
       "    .dataframe tbody tr th:only-of-type {\n",
       "        vertical-align: middle;\n",
       "    }\n",
       "\n",
       "    .dataframe tbody tr th {\n",
       "        vertical-align: top;\n",
       "    }\n",
       "\n",
       "    .dataframe thead th {\n",
       "        text-align: right;\n",
       "    }\n",
       "</style>\n",
       "<table border=\"1\" class=\"dataframe\">\n",
       "  <thead>\n",
       "    <tr style=\"text-align: right;\">\n",
       "      <th></th>\n",
       "      <th>cliente_id</th>\n",
       "      <th>categoria_id</th>\n",
       "    </tr>\n",
       "  </thead>\n",
       "  <tbody>\n",
       "    <tr>\n",
       "      <th>0</th>\n",
       "      <td>1</td>\n",
       "      <td>5</td>\n",
       "    </tr>\n",
       "    <tr>\n",
       "      <th>1</th>\n",
       "      <td>1</td>\n",
       "      <td>2</td>\n",
       "    </tr>\n",
       "    <tr>\n",
       "      <th>2</th>\n",
       "      <td>2</td>\n",
       "      <td>4</td>\n",
       "    </tr>\n",
       "    <tr>\n",
       "      <th>3</th>\n",
       "      <td>2</td>\n",
       "      <td>8</td>\n",
       "    </tr>\n",
       "    <tr>\n",
       "      <th>4</th>\n",
       "      <td>3</td>\n",
       "      <td>3</td>\n",
       "    </tr>\n",
       "    <tr>\n",
       "      <th>...</th>\n",
       "      <td>...</td>\n",
       "      <td>...</td>\n",
       "    </tr>\n",
       "    <tr>\n",
       "      <th>119</th>\n",
       "      <td>29</td>\n",
       "      <td>3</td>\n",
       "    </tr>\n",
       "    <tr>\n",
       "      <th>120</th>\n",
       "      <td>30</td>\n",
       "      <td>4</td>\n",
       "    </tr>\n",
       "    <tr>\n",
       "      <th>121</th>\n",
       "      <td>30</td>\n",
       "      <td>14</td>\n",
       "    </tr>\n",
       "    <tr>\n",
       "      <th>122</th>\n",
       "      <td>30</td>\n",
       "      <td>13</td>\n",
       "    </tr>\n",
       "    <tr>\n",
       "      <th>123</th>\n",
       "      <td>30</td>\n",
       "      <td>3</td>\n",
       "    </tr>\n",
       "  </tbody>\n",
       "</table>\n",
       "<p>124 rows × 2 columns</p>\n",
       "</div>"
      ],
      "text/plain": [
       "     cliente_id  categoria_id\n",
       "0             1             5\n",
       "1             1             2\n",
       "2             2             4\n",
       "3             2             8\n",
       "4             3             3\n",
       "..          ...           ...\n",
       "119          29             3\n",
       "120          30             4\n",
       "121          30            14\n",
       "122          30            13\n",
       "123          30             3\n",
       "\n",
       "[124 rows x 2 columns]"
      ]
     },
     "execution_count": 65,
     "metadata": {},
     "output_type": "execute_result"
    }
   ],
   "source": [
    "# Relacion cliente - categoría\n",
    "cliente_categoria"
   ]
  },
  {
   "cell_type": "code",
   "execution_count": 66,
   "id": "66ea2062",
   "metadata": {},
   "outputs": [
    {
     "data": {
      "application/vnd.microsoft.datawrangler.viewer.v0+json": {
       "columns": [
        {
         "name": "index",
         "rawType": "int64",
         "type": "integer"
        },
        {
         "name": "auditoria_id",
         "rawType": "int64",
         "type": "integer"
        },
        {
         "name": "fecha",
         "rawType": "object",
         "type": "string"
        },
        {
         "name": "tienda",
         "rawType": "object",
         "type": "string"
        },
        {
         "name": "auditor",
         "rawType": "object",
         "type": "string"
        },
        {
         "name": "cliente_id",
         "rawType": "int64",
         "type": "integer"
        }
       ],
       "ref": "4c00e165-7cad-4b37-9fb8-1a89efdd82fd",
       "rows": [
        [
         "0",
         "1",
         "2025-08-07 23:09:32",
         "Tienda_36",
         "Auditor_20",
         "24"
        ],
        [
         "1",
         "2",
         "2025-02-21 05:49:17",
         "Tienda_34",
         "Auditor_1",
         "30"
        ],
        [
         "2",
         "3",
         "2025-02-10 07:41:06",
         "Tienda_18",
         "Auditor_6",
         "20"
        ],
        [
         "3",
         "4",
         "2025-01-20 05:19:57",
         "Tienda_8",
         "Auditor_9",
         "4"
        ],
        [
         "4",
         "5",
         "2025-08-17 07:29:57",
         "Tienda_26",
         "Auditor_13",
         "12"
        ],
        [
         "5",
         "6",
         "2025-04-09 20:01:28",
         "Tienda_44",
         "Auditor_12",
         "17"
        ],
        [
         "6",
         "7",
         "2025-02-13 12:18:29",
         "Tienda_18",
         "Auditor_19",
         "27"
        ],
        [
         "7",
         "8",
         "2025-02-01 23:36:15",
         "Tienda_11",
         "Auditor_8",
         "10"
        ],
        [
         "8",
         "9",
         "2025-04-27 09:30:15",
         "Tienda_19",
         "Auditor_18",
         "9"
        ],
        [
         "9",
         "10",
         "2025-03-31 10:14:11",
         "Tienda_31",
         "Auditor_11",
         "7"
        ],
        [
         "10",
         "11",
         "2025-03-15 18:29:23",
         "Tienda_10",
         "Auditor_8",
         "15"
        ],
        [
         "11",
         "12",
         "2025-05-01 11:13:52",
         "Tienda_18",
         "Auditor_1",
         "7"
        ],
        [
         "12",
         "13",
         "2025-05-27 05:45:18",
         "Tienda_23",
         "Auditor_2",
         "8"
        ],
        [
         "13",
         "14",
         "2025-08-29 03:35:10",
         "Tienda_12",
         "Auditor_10",
         "25"
        ],
        [
         "14",
         "15",
         "2025-05-29 16:10:03",
         "Tienda_21",
         "Auditor_10",
         "13"
        ],
        [
         "15",
         "16",
         "2025-02-21 11:58:58",
         "Tienda_6",
         "Auditor_16",
         "4"
        ],
        [
         "16",
         "17",
         "2025-03-05 04:23:55",
         "Tienda_28",
         "Auditor_17",
         "11"
        ],
        [
         "17",
         "18",
         "2025-03-28 02:58:00",
         "Tienda_38",
         "Auditor_18",
         "13"
        ],
        [
         "18",
         "19",
         "2025-04-23 11:14:03",
         "Tienda_35",
         "Auditor_17",
         "22"
        ],
        [
         "19",
         "20",
         "2025-06-18 13:43:56",
         "Tienda_36",
         "Auditor_9",
         "29"
        ],
        [
         "20",
         "21",
         "2025-06-21 12:37:39",
         "Tienda_11",
         "Auditor_15",
         "5"
        ],
        [
         "21",
         "22",
         "2025-06-22 13:08:40",
         "Tienda_49",
         "Auditor_17",
         "19"
        ],
        [
         "22",
         "23",
         "2025-05-26 14:39:42",
         "Tienda_20",
         "Auditor_20",
         "26"
        ],
        [
         "23",
         "24",
         "2025-08-04 00:12:51",
         "Tienda_29",
         "Auditor_5",
         "29"
        ],
        [
         "24",
         "25",
         "2025-02-01 13:03:58",
         "Tienda_9",
         "Auditor_8",
         "13"
        ],
        [
         "25",
         "26",
         "2025-02-04 02:33:55",
         "Tienda_20",
         "Auditor_18",
         "22"
        ],
        [
         "26",
         "27",
         "2025-03-02 17:36:32",
         "Tienda_4",
         "Auditor_14",
         "20"
        ],
        [
         "27",
         "28",
         "2025-01-20 18:02:55",
         "Tienda_6",
         "Auditor_15",
         "10"
        ],
        [
         "28",
         "29",
         "2025-06-23 17:21:38",
         "Tienda_8",
         "Auditor_5",
         "23"
        ],
        [
         "29",
         "30",
         "2025-06-03 07:23:09",
         "Tienda_1",
         "Auditor_7",
         "8"
        ],
        [
         "30",
         "31",
         "2025-03-15 15:50:51",
         "Tienda_40",
         "Auditor_3",
         "30"
        ],
        [
         "31",
         "32",
         "2025-03-11 08:58:18",
         "Tienda_48",
         "Auditor_5",
         "16"
        ],
        [
         "32",
         "33",
         "2025-07-23 23:03:28",
         "Tienda_10",
         "Auditor_13",
         "16"
        ],
        [
         "33",
         "34",
         "2025-06-20 12:13:40",
         "Tienda_10",
         "Auditor_9",
         "1"
        ],
        [
         "34",
         "35",
         "2025-03-25 07:38:36",
         "Tienda_45",
         "Auditor_13",
         "7"
        ],
        [
         "35",
         "36",
         "2025-03-26 17:32:54",
         "Tienda_18",
         "Auditor_8",
         "9"
        ],
        [
         "36",
         "37",
         "2025-03-25 13:50:29",
         "Tienda_41",
         "Auditor_11",
         "16"
        ],
        [
         "37",
         "38",
         "2025-05-17 18:56:31",
         "Tienda_19",
         "Auditor_16",
         "16"
        ],
        [
         "38",
         "39",
         "2025-03-06 22:40:46",
         "Tienda_30",
         "Auditor_2",
         "15"
        ],
        [
         "39",
         "40",
         "2025-08-24 05:14:47",
         "Tienda_6",
         "Auditor_16",
         "1"
        ],
        [
         "40",
         "41",
         "2025-02-27 19:49:31",
         "Tienda_30",
         "Auditor_12",
         "11"
        ],
        [
         "41",
         "42",
         "2025-03-21 08:06:56",
         "Tienda_50",
         "Auditor_15",
         "12"
        ],
        [
         "42",
         "43",
         "2025-05-07 18:31:42",
         "Tienda_16",
         "Auditor_20",
         "16"
        ],
        [
         "43",
         "44",
         "2025-02-14 11:44:52",
         "Tienda_42",
         "Auditor_5",
         "23"
        ],
        [
         "44",
         "45",
         "2025-02-04 12:56:03",
         "Tienda_8",
         "Auditor_1",
         "19"
        ],
        [
         "45",
         "46",
         "2025-02-11 03:51:04",
         "Tienda_31",
         "Auditor_15",
         "8"
        ],
        [
         "46",
         "47",
         "2025-05-20 04:25:38",
         "Tienda_35",
         "Auditor_10",
         "5"
        ],
        [
         "47",
         "48",
         "2025-08-20 17:09:48",
         "Tienda_33",
         "Auditor_16",
         "2"
        ],
        [
         "48",
         "49",
         "2025-08-03 15:42:23",
         "Tienda_4",
         "Auditor_17",
         "18"
        ],
        [
         "49",
         "50",
         "2025-04-12 00:52:45",
         "Tienda_34",
         "Auditor_18",
         "21"
        ]
       ],
       "shape": {
        "columns": 5,
        "rows": 500
       }
      },
      "text/html": [
       "<div>\n",
       "<style scoped>\n",
       "    .dataframe tbody tr th:only-of-type {\n",
       "        vertical-align: middle;\n",
       "    }\n",
       "\n",
       "    .dataframe tbody tr th {\n",
       "        vertical-align: top;\n",
       "    }\n",
       "\n",
       "    .dataframe thead th {\n",
       "        text-align: right;\n",
       "    }\n",
       "</style>\n",
       "<table border=\"1\" class=\"dataframe\">\n",
       "  <thead>\n",
       "    <tr style=\"text-align: right;\">\n",
       "      <th></th>\n",
       "      <th>auditoria_id</th>\n",
       "      <th>fecha</th>\n",
       "      <th>tienda</th>\n",
       "      <th>auditor</th>\n",
       "      <th>cliente_id</th>\n",
       "    </tr>\n",
       "  </thead>\n",
       "  <tbody>\n",
       "    <tr>\n",
       "      <th>0</th>\n",
       "      <td>1</td>\n",
       "      <td>2025-08-07 23:09:32</td>\n",
       "      <td>Tienda_36</td>\n",
       "      <td>Auditor_20</td>\n",
       "      <td>24</td>\n",
       "    </tr>\n",
       "    <tr>\n",
       "      <th>1</th>\n",
       "      <td>2</td>\n",
       "      <td>2025-02-21 05:49:17</td>\n",
       "      <td>Tienda_34</td>\n",
       "      <td>Auditor_1</td>\n",
       "      <td>30</td>\n",
       "    </tr>\n",
       "    <tr>\n",
       "      <th>2</th>\n",
       "      <td>3</td>\n",
       "      <td>2025-02-10 07:41:06</td>\n",
       "      <td>Tienda_18</td>\n",
       "      <td>Auditor_6</td>\n",
       "      <td>20</td>\n",
       "    </tr>\n",
       "    <tr>\n",
       "      <th>3</th>\n",
       "      <td>4</td>\n",
       "      <td>2025-01-20 05:19:57</td>\n",
       "      <td>Tienda_8</td>\n",
       "      <td>Auditor_9</td>\n",
       "      <td>4</td>\n",
       "    </tr>\n",
       "    <tr>\n",
       "      <th>4</th>\n",
       "      <td>5</td>\n",
       "      <td>2025-08-17 07:29:57</td>\n",
       "      <td>Tienda_26</td>\n",
       "      <td>Auditor_13</td>\n",
       "      <td>12</td>\n",
       "    </tr>\n",
       "    <tr>\n",
       "      <th>...</th>\n",
       "      <td>...</td>\n",
       "      <td>...</td>\n",
       "      <td>...</td>\n",
       "      <td>...</td>\n",
       "      <td>...</td>\n",
       "    </tr>\n",
       "    <tr>\n",
       "      <th>495</th>\n",
       "      <td>496</td>\n",
       "      <td>2025-05-29 06:21:44</td>\n",
       "      <td>Tienda_29</td>\n",
       "      <td>Auditor_5</td>\n",
       "      <td>25</td>\n",
       "    </tr>\n",
       "    <tr>\n",
       "      <th>496</th>\n",
       "      <td>497</td>\n",
       "      <td>2025-03-09 09:00:50</td>\n",
       "      <td>Tienda_44</td>\n",
       "      <td>Auditor_15</td>\n",
       "      <td>23</td>\n",
       "    </tr>\n",
       "    <tr>\n",
       "      <th>497</th>\n",
       "      <td>498</td>\n",
       "      <td>2025-07-25 16:31:06</td>\n",
       "      <td>Tienda_2</td>\n",
       "      <td>Auditor_10</td>\n",
       "      <td>30</td>\n",
       "    </tr>\n",
       "    <tr>\n",
       "      <th>498</th>\n",
       "      <td>499</td>\n",
       "      <td>2025-02-13 09:33:04</td>\n",
       "      <td>Tienda_25</td>\n",
       "      <td>Auditor_18</td>\n",
       "      <td>17</td>\n",
       "    </tr>\n",
       "    <tr>\n",
       "      <th>499</th>\n",
       "      <td>500</td>\n",
       "      <td>2025-02-05 16:41:50</td>\n",
       "      <td>Tienda_29</td>\n",
       "      <td>Auditor_13</td>\n",
       "      <td>23</td>\n",
       "    </tr>\n",
       "  </tbody>\n",
       "</table>\n",
       "<p>500 rows × 5 columns</p>\n",
       "</div>"
      ],
      "text/plain": [
       "     auditoria_id                fecha     tienda     auditor  cliente_id\n",
       "0               1  2025-08-07 23:09:32  Tienda_36  Auditor_20          24\n",
       "1               2  2025-02-21 05:49:17  Tienda_34   Auditor_1          30\n",
       "2               3  2025-02-10 07:41:06  Tienda_18   Auditor_6          20\n",
       "3               4  2025-01-20 05:19:57   Tienda_8   Auditor_9           4\n",
       "4               5  2025-08-17 07:29:57  Tienda_26  Auditor_13          12\n",
       "..            ...                  ...        ...         ...         ...\n",
       "495           496  2025-05-29 06:21:44  Tienda_29   Auditor_5          25\n",
       "496           497  2025-03-09 09:00:50  Tienda_44  Auditor_15          23\n",
       "497           498  2025-07-25 16:31:06   Tienda_2  Auditor_10          30\n",
       "498           499  2025-02-13 09:33:04  Tienda_25  Auditor_18          17\n",
       "499           500  2025-02-05 16:41:50  Tienda_29  Auditor_13          23\n",
       "\n",
       "[500 rows x 5 columns]"
      ]
     },
     "execution_count": 66,
     "metadata": {},
     "output_type": "execute_result"
    }
   ],
   "source": [
    "auditorias"
   ]
  },
  {
   "cell_type": "code",
   "execution_count": 67,
   "id": "56f45a9e",
   "metadata": {},
   "outputs": [
    {
     "name": "stdout",
     "output_type": "stream",
     "text": [
      "<class 'pandas.core.frame.DataFrame'>\n",
      "RangeIndex: 500 entries, 0 to 499\n",
      "Data columns (total 5 columns):\n",
      " #   Column        Non-Null Count  Dtype \n",
      "---  ------        --------------  ----- \n",
      " 0   auditoria_id  500 non-null    int64 \n",
      " 1   fecha         500 non-null    object\n",
      " 2   tienda        500 non-null    object\n",
      " 3   auditor       500 non-null    object\n",
      " 4   cliente_id    500 non-null    int64 \n",
      "dtypes: int64(2), object(3)\n",
      "memory usage: 19.7+ KB\n"
     ]
    }
   ],
   "source": [
    "auditorias.info()"
   ]
  },
  {
   "cell_type": "code",
   "execution_count": 68,
   "id": "7d795d89",
   "metadata": {},
   "outputs": [
    {
     "data": {
      "application/vnd.microsoft.datawrangler.viewer.v0+json": {
       "columns": [
        {
         "name": "index",
         "rawType": "int64",
         "type": "integer"
        },
        {
         "name": "foto_id",
         "rawType": "int64",
         "type": "integer"
        },
        {
         "name": "auditoria_id",
         "rawType": "int64",
         "type": "integer"
        },
        {
         "name": "categoria_id",
         "rawType": "float64",
         "type": "float"
        },
        {
         "name": "tipo",
         "rawType": "object",
         "type": "string"
        }
       ],
       "ref": "5862ef45-6895-412a-8546-e624e03c7517",
       "rows": [
        [
         "0",
         "1",
         "1",
         null,
         "control_inicio"
        ],
        [
         "1",
         "2",
         "1",
         null,
         "control_fin"
        ],
        [
         "2",
         "3",
         "1",
         "3.0",
         "categoria"
        ],
        [
         "3",
         "4",
         "1",
         "5.0",
         "categoria"
        ],
        [
         "4",
         "5",
         "1",
         "15.0",
         "categoria"
        ],
        [
         "5",
         "6",
         "1",
         "10.0",
         "categoria"
        ],
        [
         "6",
         "7",
         "1",
         "11.0",
         "categoria"
        ],
        [
         "7",
         "8",
         "1",
         "9.0",
         "categoria"
        ],
        [
         "8",
         "9",
         "2",
         null,
         "control_inicio"
        ],
        [
         "9",
         "10",
         "2",
         null,
         "control_fin"
        ],
        [
         "10",
         "11",
         "2",
         "3.0",
         "categoria"
        ],
        [
         "11",
         "12",
         "2",
         "14.0",
         "categoria"
        ],
        [
         "12",
         "13",
         "2",
         "13.0",
         "categoria"
        ],
        [
         "13",
         "14",
         "2",
         "4.0",
         "categoria"
        ],
        [
         "14",
         "15",
         "3",
         null,
         "control_inicio"
        ],
        [
         "15",
         "16",
         "3",
         null,
         "control_fin"
        ],
        [
         "16",
         "17",
         "3",
         "5.0",
         "categoria"
        ],
        [
         "17",
         "18",
         "3",
         "9.0",
         "categoria"
        ],
        [
         "18",
         "19",
         "3",
         "15.0",
         "categoria"
        ],
        [
         "19",
         "20",
         "3",
         "12.0",
         "categoria"
        ],
        [
         "20",
         "21",
         "4",
         null,
         "control_inicio"
        ],
        [
         "21",
         "22",
         "4",
         null,
         "control_fin"
        ],
        [
         "22",
         "23",
         "5",
         null,
         "control_inicio"
        ],
        [
         "23",
         "24",
         "5",
         null,
         "control_fin"
        ],
        [
         "24",
         "25",
         "5",
         "4.0",
         "categoria"
        ],
        [
         "25",
         "26",
         "5",
         "11.0",
         "categoria"
        ],
        [
         "26",
         "27",
         "5",
         "6.0",
         "categoria"
        ],
        [
         "27",
         "28",
         "5",
         "14.0",
         "categoria"
        ],
        [
         "28",
         "29",
         "5",
         "1.0",
         "categoria"
        ],
        [
         "29",
         "30",
         "5",
         "3.0",
         "categoria"
        ],
        [
         "30",
         "31",
         "6",
         null,
         "control_inicio"
        ],
        [
         "31",
         "32",
         "6",
         null,
         "control_fin"
        ],
        [
         "32",
         "33",
         "7",
         null,
         "control_inicio"
        ],
        [
         "33",
         "34",
         "7",
         null,
         "control_fin"
        ],
        [
         "34",
         "35",
         "7",
         "5.0",
         "categoria"
        ],
        [
         "35",
         "36",
         "7",
         "4.0",
         "categoria"
        ],
        [
         "36",
         "37",
         "7",
         "12.0",
         "categoria"
        ],
        [
         "37",
         "38",
         "7",
         "6.0",
         "categoria"
        ],
        [
         "38",
         "39",
         "7",
         "14.0",
         "categoria"
        ],
        [
         "39",
         "40",
         "7",
         "13.0",
         "categoria"
        ],
        [
         "40",
         "41",
         "7",
         "3.0",
         "categoria"
        ],
        [
         "41",
         "42",
         "8",
         null,
         "control_inicio"
        ],
        [
         "42",
         "43",
         "8",
         null,
         "control_fin"
        ],
        [
         "43",
         "44",
         "8",
         "4.0",
         "categoria"
        ],
        [
         "44",
         "45",
         "8",
         "15.0",
         "categoria"
        ],
        [
         "45",
         "46",
         "9",
         null,
         "control_inicio"
        ],
        [
         "46",
         "47",
         "9",
         null,
         "control_fin"
        ],
        [
         "47",
         "48",
         "9",
         "11.0",
         "categoria"
        ],
        [
         "48",
         "49",
         "9",
         "12.0",
         "categoria"
        ],
        [
         "49",
         "50",
         "10",
         null,
         "control_inicio"
        ]
       ],
       "shape": {
        "columns": 4,
        "rows": 2926
       }
      },
      "text/html": [
       "<div>\n",
       "<style scoped>\n",
       "    .dataframe tbody tr th:only-of-type {\n",
       "        vertical-align: middle;\n",
       "    }\n",
       "\n",
       "    .dataframe tbody tr th {\n",
       "        vertical-align: top;\n",
       "    }\n",
       "\n",
       "    .dataframe thead th {\n",
       "        text-align: right;\n",
       "    }\n",
       "</style>\n",
       "<table border=\"1\" class=\"dataframe\">\n",
       "  <thead>\n",
       "    <tr style=\"text-align: right;\">\n",
       "      <th></th>\n",
       "      <th>foto_id</th>\n",
       "      <th>auditoria_id</th>\n",
       "      <th>categoria_id</th>\n",
       "      <th>tipo</th>\n",
       "    </tr>\n",
       "  </thead>\n",
       "  <tbody>\n",
       "    <tr>\n",
       "      <th>0</th>\n",
       "      <td>1</td>\n",
       "      <td>1</td>\n",
       "      <td>NaN</td>\n",
       "      <td>control_inicio</td>\n",
       "    </tr>\n",
       "    <tr>\n",
       "      <th>1</th>\n",
       "      <td>2</td>\n",
       "      <td>1</td>\n",
       "      <td>NaN</td>\n",
       "      <td>control_fin</td>\n",
       "    </tr>\n",
       "    <tr>\n",
       "      <th>2</th>\n",
       "      <td>3</td>\n",
       "      <td>1</td>\n",
       "      <td>3.0</td>\n",
       "      <td>categoria</td>\n",
       "    </tr>\n",
       "    <tr>\n",
       "      <th>3</th>\n",
       "      <td>4</td>\n",
       "      <td>1</td>\n",
       "      <td>5.0</td>\n",
       "      <td>categoria</td>\n",
       "    </tr>\n",
       "    <tr>\n",
       "      <th>4</th>\n",
       "      <td>5</td>\n",
       "      <td>1</td>\n",
       "      <td>15.0</td>\n",
       "      <td>categoria</td>\n",
       "    </tr>\n",
       "    <tr>\n",
       "      <th>...</th>\n",
       "      <td>...</td>\n",
       "      <td>...</td>\n",
       "      <td>...</td>\n",
       "      <td>...</td>\n",
       "    </tr>\n",
       "    <tr>\n",
       "      <th>2921</th>\n",
       "      <td>2922</td>\n",
       "      <td>500</td>\n",
       "      <td>11.0</td>\n",
       "      <td>categoria</td>\n",
       "    </tr>\n",
       "    <tr>\n",
       "      <th>2922</th>\n",
       "      <td>2923</td>\n",
       "      <td>500</td>\n",
       "      <td>8.0</td>\n",
       "      <td>categoria</td>\n",
       "    </tr>\n",
       "    <tr>\n",
       "      <th>2923</th>\n",
       "      <td>2924</td>\n",
       "      <td>500</td>\n",
       "      <td>13.0</td>\n",
       "      <td>categoria</td>\n",
       "    </tr>\n",
       "    <tr>\n",
       "      <th>2924</th>\n",
       "      <td>2925</td>\n",
       "      <td>500</td>\n",
       "      <td>14.0</td>\n",
       "      <td>categoria</td>\n",
       "    </tr>\n",
       "    <tr>\n",
       "      <th>2925</th>\n",
       "      <td>2926</td>\n",
       "      <td>500</td>\n",
       "      <td>15.0</td>\n",
       "      <td>categoria</td>\n",
       "    </tr>\n",
       "  </tbody>\n",
       "</table>\n",
       "<p>2926 rows × 4 columns</p>\n",
       "</div>"
      ],
      "text/plain": [
       "      foto_id  auditoria_id  categoria_id            tipo\n",
       "0           1             1           NaN  control_inicio\n",
       "1           2             1           NaN     control_fin\n",
       "2           3             1           3.0       categoria\n",
       "3           4             1           5.0       categoria\n",
       "4           5             1          15.0       categoria\n",
       "...       ...           ...           ...             ...\n",
       "2921     2922           500          11.0       categoria\n",
       "2922     2923           500           8.0       categoria\n",
       "2923     2924           500          13.0       categoria\n",
       "2924     2925           500          14.0       categoria\n",
       "2925     2926           500          15.0       categoria\n",
       "\n",
       "[2926 rows x 4 columns]"
      ]
     },
     "execution_count": 68,
     "metadata": {},
     "output_type": "execute_result"
    }
   ],
   "source": [
    "fotos_cargadas"
   ]
  },
  {
   "cell_type": "code",
   "execution_count": 69,
   "id": "e17d4b9d",
   "metadata": {},
   "outputs": [
    {
     "name": "stdout",
     "output_type": "stream",
     "text": [
      "<class 'pandas.core.frame.DataFrame'>\n",
      "RangeIndex: 2926 entries, 0 to 2925\n",
      "Data columns (total 4 columns):\n",
      " #   Column        Non-Null Count  Dtype  \n",
      "---  ------        --------------  -----  \n",
      " 0   foto_id       2926 non-null   int64  \n",
      " 1   auditoria_id  2926 non-null   int64  \n",
      " 2   categoria_id  1926 non-null   float64\n",
      " 3   tipo          2926 non-null   object \n",
      "dtypes: float64(1), int64(2), object(1)\n",
      "memory usage: 91.6+ KB\n"
     ]
    }
   ],
   "source": [
    "fotos_cargadas.info()"
   ]
  },
  {
   "cell_type": "markdown",
   "id": "bb1566f0",
   "metadata": {},
   "source": [
    "# **Funciones de automatización (proceso)**"
   ]
  },
  {
   "cell_type": "code",
   "execution_count": 70,
   "id": "f26eb886",
   "metadata": {},
   "outputs": [],
   "source": [
    "# Función para detectar alertas\n",
    "def detectar_alertas(auditorias, fotos, cliente_categoria, clientes):\n",
    "    \"\"\"\n",
    "    Detecta auditorías con número de fotos insuficiente.\n",
    "    \n",
    "    Retorna un DataFrame con:\n",
    "    - auditoria_id\n",
    "    - cliente\n",
    "    - fotos_esperadas\n",
    "    - fotos_cargadas\n",
    "    - fotos_faltantes\n",
    "    \"\"\"\n",
    "    \n",
    "    alertas = []\n",
    "    \n",
    "    for _, aud in auditorias.iterrows():\n",
    "        auditoria_id = aud[\"auditoria_id\"]\n",
    "        cliente_id = aud[\"cliente_id\"]\n",
    "        \n",
    "        # Nombre del cliente\n",
    "        cliente = clientes.loc[clientes[\"cliente_id\"] == cliente_id, \"cliente_nombre\"].values[0]\n",
    "        \n",
    "        # Fotos de la auditoría\n",
    "        fotos_aud = fotos[fotos[\"auditoria_id\"] == auditoria_id]\n",
    "        fotos_cargadas = len(fotos_aud)\n",
    "        \n",
    "        # Categorías que debe auditar este cliente\n",
    "        categorias_cliente = cliente_categoria[cliente_categoria[\"cliente_id\"] == cliente_id]\n",
    "        fotos_esperadas = len(categorias_cliente) + 2  # +2 controles\n",
    "        \n",
    "        # Calcular faltantes\n",
    "        fotos_faltantes = max(0, fotos_esperadas - fotos_cargadas)\n",
    "        \n",
    "        # Si faltan fotos → generar alerta\n",
    "        if fotos_faltantes > 0:\n",
    "            alertas.append({\n",
    "                \"auditoria_id\": auditoria_id,\n",
    "                \"cliente\": cliente,\n",
    "                \"fotos_esperadas\": fotos_esperadas,\n",
    "                \"fotos_cargadas\": fotos_cargadas,\n",
    "                \"fotos_faltantes\": fotos_faltantes\n",
    "            })\n",
    "    \n",
    "    return pd.DataFrame(alertas)\n"
   ]
  },
  {
   "cell_type": "code",
   "execution_count": 71,
   "id": "e81cb20a",
   "metadata": {},
   "outputs": [],
   "source": [
    "# Función para exportar el df resultante a excel\n",
    "def exportar_excel(df, filename=\"../datasets/generados/alertas.xlsx\"):\n",
    "    if not df.empty:\n",
    "        df.to_excel(filename, index=False)\n",
    "        print(f\"✅ Reporte generado: {filename}\")\n",
    "    else:\n",
    "        print(\"🎉 No se encontraron alertas, todo está completo.\")\n"
   ]
  },
  {
   "cell_type": "code",
   "execution_count": 72,
   "id": "ee673029",
   "metadata": {},
   "outputs": [],
   "source": [
    "def enviar_excel_por_correo(alertas, auditorias, destinatario, asunto=\"Alertas Auditorías\"): \n",
    "    EMAIL = os.environ.get(\"ALERT_EMAIL\")\n",
    "    PASS = os.environ.get(\"ALERT_PASS\")\n",
    "    \n",
    "    if not EMAIL or not PASS:\n",
    "        raise ValueError(\"Configura ALERT_EMAIL y ALERT_PASS en tu archivo .env\")\n",
    "\n",
    "    msg = EmailMessage()\n",
    "    msg[\"Subject\"] = asunto\n",
    "    msg[\"From\"] = EMAIL\n",
    "    msg[\"To\"] = destinatario\n",
    "    msg.set_content(\"Muy buen día, adjunto a este correo encontrará los reportes de alertas (completo y del día).\")\n",
    "\n",
    "    # --- Reporte completo ---\n",
    "    ruta_completo = \"../datasets/generados/alertas_completo.xlsx\"\n",
    "    alertas.to_excel(ruta_completo, index=False)\n",
    "\n",
    "    with open(ruta_completo, \"rb\") as f:\n",
    "        msg.add_attachment(\n",
    "            f.read(),\n",
    "            maintype=\"application\",\n",
    "            subtype=\"vnd.openxmlformats-officedocument.spreadsheetml.sheet\",\n",
    "            filename=os.path.basename(ruta_completo)\n",
    "        )\n",
    "\n",
    "    # --- Reporte de hoy ---\n",
    "    hoy = datetime.now().date()\n",
    "    alertas_hoy = alertas.merge(\n",
    "        auditorias[[\"auditoria_id\", \"fecha\"]],\n",
    "        on=\"auditoria_id\",\n",
    "        how=\"left\"\n",
    "    )\n",
    "\n",
    "    # Convertir 'fecha' a datetime para evitar error con .dt\n",
    "    alertas_hoy[\"fecha\"] = pd.to_datetime(alertas_hoy[\"fecha\"], errors=\"coerce\")\n",
    "    alertas_hoy = alertas_hoy[alertas_hoy[\"fecha\"].dt.date == hoy]\n",
    "    alertas_hoy = alertas_hoy.drop(columns=[\"fecha\"])\n",
    "\n",
    "    ruta_hoy = \"../datasets/generados/alertas_hoy.xlsx\"\n",
    "    alertas_hoy.to_excel(ruta_hoy, index=False)\n",
    "\n",
    "    with open(ruta_hoy, \"rb\") as f:\n",
    "        msg.add_attachment(\n",
    "            f.read(),\n",
    "            maintype=\"application\",\n",
    "            subtype=\"vnd.openxmlformats-officedocument.spreadsheetml.sheet\",\n",
    "            filename=os.path.basename(ruta_hoy)\n",
    "        )\n",
    "\n",
    "    # Enviar correo\n",
    "    with smtplib.SMTP_SSL(\"smtp.gmail.com\", 465) as smtp:\n",
    "        smtp.login(EMAIL, PASS)\n",
    "        smtp.send_message(msg)\n",
    "\n",
    "    print(f\"✅ Correo enviado a {destinatario} con reportes completo y diario\")\n",
    "\n",
    "\n"
   ]
  },
  {
   "cell_type": "markdown",
   "id": "96e2e4a1",
   "metadata": {},
   "source": [
    "# **Funciones de automatización (simulación)**"
   ]
  },
  {
   "cell_type": "code",
   "execution_count": 73,
   "id": "9947619c",
   "metadata": {},
   "outputs": [],
   "source": [
    "def nueva_auditoria(auditoria_id, cliente_id, cliente_categoria, start_foto_id, forzar_error=False):\n",
    "    \"\"\"\n",
    "    Genera una auditoría nueva con sus fotos asociadas.\n",
    "    Retorna:\n",
    "      - DataFrame con la auditoría\n",
    "      - DataFrame con las fotos cargadas\n",
    "      - último id de foto usado\n",
    "    \"\"\"\n",
    "    # 1. Crear el registro de auditoría\n",
    "    auditoria = pd.DataFrame([{\n",
    "        \"auditoria_id\": auditoria_id,\n",
    "        \"fecha\": pd.Timestamp.now(),\n",
    "        \"tienda\": f\"Tienda_{random.randint(1, 50)}\",\n",
    "        \"auditor\": f\"Auditor_{random.randint(1, 20)}\",\n",
    "        \"cliente_id\": cliente_id\n",
    "    }])\n",
    "\n",
    "    # 2. Categorías del cliente\n",
    "    categorias = cliente_categoria[cliente_categoria[\"cliente_id\"] == cliente_id][\"categoria_id\"].tolist()\n",
    "    fotos_min = len(categorias) + 2  \n",
    "    \n",
    "    # 3. Cuántas fotos incluir\n",
    "    if forzar_error and fotos_min > 2:\n",
    "        total_fotos = random.randint(2, fotos_min - 1)\n",
    "    else:\n",
    "        total_fotos = fotos_min\n",
    "\n",
    "    fotos = []\n",
    "    foto_id = start_foto_id  # arrancamos desde el último disponible\n",
    "\n",
    "    # 4. Fotos de control\n",
    "    fotos.append({\"foto_id\": int(foto_id), \"auditoria_id\": auditoria_id, \"categoria_id\": np.nan, \"tipo\": \"control_inicio\"})\n",
    "    foto_id += 1\n",
    "    fotos.append({\"foto_id\": int(foto_id), \"auditoria_id\": auditoria_id, \"categoria_id\": np.nan, \"tipo\": \"control_fin\"})\n",
    "    foto_id += 1\n",
    "\n",
    "    # 5. Fotos de categorías\n",
    "    categorias_seleccionadas = random.sample(categorias, min(len(categorias), total_fotos - 2))\n",
    "    for cat in categorias_seleccionadas:\n",
    "        fotos.append({\"foto_id\": int(foto_id), \"auditoria_id\": auditoria_id, \"categoria_id\": cat, \"tipo\": \"categoria\"})\n",
    "        foto_id += 1\n",
    "\n",
    "    # 6. Retornar todo\n",
    "    return auditoria, pd.DataFrame(fotos), foto_id - 1  # último id usado\n"
   ]
  },
  {
   "cell_type": "code",
   "execution_count": 74,
   "id": "eb4a33fc",
   "metadata": {},
   "outputs": [],
   "source": [
    "def ciclo_simulacion(\n",
    "    auditorias, fotos_cargadas, cliente_categoria, clientes,\n",
    "    intervalo=60,                  \n",
    "    destinatario=\"destinatario@ejemplo.com\",\n",
    "    ciclos=5                       \n",
    "):\n",
    "    \"\"\"\n",
    "    Simula el flujo de:\n",
    "    - Generar nuevas auditorías (opcional, aleatorio por ciclo).\n",
    "    - Detectar alertas.\n",
    "    - Exportar auditorías simuladas.\n",
    "    - Enviar Excel con reportes (completo y diario).\n",
    "    \"\"\"\n",
    "    # Para controlar IDs\n",
    "    next_auditoria_id = auditorias[\"auditoria_id\"].max() + 1\n",
    "    next_foto_id = fotos_cargadas[\"foto_id\"].max() + 1\n",
    "\n",
    "    contador = 0\n",
    "    while ciclos is None or contador < ciclos:\n",
    "        print(f\"\\n⏳ Ciclo {contador+1} iniciado...\")\n",
    "\n",
    "        # Elegir aleatoriamente si generar nuevas auditorías\n",
    "        if contador == 0:\n",
    "            generar_nuevas_ciclo = False \n",
    "        elif contador == 1:\n",
    "            generar_nuevas_ciclo = True\n",
    "        elif contador >= 2:     \n",
    "            generar_nuevas_ciclo = random.choice([True, False])\n",
    "\n",
    "        n_nuevas_ciclo = random.choice([20, 30, 40, 60, 80, 100, 160, 320]) if generar_nuevas_ciclo else 0 # 5, 10, 20, 40, 80, 160, \n",
    "\n",
    "        # 1. Generar nuevas auditorías\n",
    "        if generar_nuevas_ciclo:\n",
    "            auditorias_nuevas = []\n",
    "            fotos_nuevas = []\n",
    "            for i in range(n_nuevas_ciclo):\n",
    "                cliente_id = random.randint(1, clientes[\"cliente_id\"].max())\n",
    "                forzar_error = random.choice([True, False])\n",
    "\n",
    "                aud, fotos_df, next_foto_id = nueva_auditoria(\n",
    "                    next_auditoria_id, cliente_id, cliente_categoria,\n",
    "                    start_foto_id=next_foto_id, forzar_error=forzar_error\n",
    "                )\n",
    "                auditorias_nuevas.append(aud)\n",
    "                fotos_nuevas.append(fotos_df)\n",
    "                next_auditoria_id += 1\n",
    "\n",
    "            auditorias = pd.concat([auditorias] + auditorias_nuevas, ignore_index=True)\n",
    "            auditorias['fecha'] = pd.to_datetime(auditorias[\"fecha\"], errors=\"coerce\")\n",
    "            fotos_cargadas = pd.concat([fotos_cargadas] + fotos_nuevas, ignore_index=True)\n",
    "            print(f\"🆕 Se generaron {n_nuevas_ciclo} auditorías nuevas.\")\n",
    "        else:\n",
    "            print(\"ℹ️ No se generaron auditorías nuevas en este ciclo.\")\n",
    "\n",
    "        # 2. Detectar alertas\n",
    "        alertas = detectar_alertas(auditorias, fotos_cargadas, cliente_categoria, clientes)\n",
    "\n",
    "        # 3. Exportar auditorías simuladas\n",
    "        exportar_excel(auditorias, \"../datasets/generados/auditorias_sim.xlsx\")\n",
    "        exportar_excel(fotos_cargadas, \"../datasets/generados/fotos_cargados_sim.xlsx\")\n",
    "\n",
    "        # 4. Enviar correos (completo + diario)\n",
    "        enviar_excel_por_correo(alertas, auditorias, destinatario)\n",
    "\n",
    "        # 5. Esperar hasta el siguiente ciclo\n",
    "        contador += 1\n",
    "        print(f\"✅ Ciclo {contador} terminado. Esperando {intervalo} segundos...\\n\")\n",
    "        time.sleep(intervalo)\n",
    "\n",
    "    return auditorias, fotos_cargadas\n"
   ]
  },
  {
   "cell_type": "markdown",
   "id": "755752c9",
   "metadata": {},
   "source": [
    "# **Simulación**"
   ]
  },
  {
   "cell_type": "code",
   "execution_count": 86,
   "id": "768b9725",
   "metadata": {},
   "outputs": [
    {
     "name": "stdout",
     "output_type": "stream",
     "text": [
      "\n",
      "⏳ Ciclo 1 iniciado...\n",
      "ℹ️ No se generaron auditorías nuevas en este ciclo.\n",
      "✅ Reporte generado: ../datasets/generados/auditorias_sim.xlsx\n",
      "✅ Reporte generado: ../datasets/generados/fotos_cargados_sim.xlsx\n",
      "✅ Correo enviado a gabriel.garcia@utp.edu.co con reportes completo y diario\n",
      "✅ Ciclo 1 terminado. Esperando 1 segundos...\n",
      "\n"
     ]
    }
   ],
   "source": [
    "# Simulación de X ciclos, X segundoS entre cada uno, primer ciclo sin nuevas auditorías\n",
    "auditorias_sim, fotos_cargadas_sim = ciclo_simulacion(\n",
    "    auditorias, fotos_cargadas, cliente_categoria, clientes,\n",
    "    intervalo=1,      # En segundos\n",
    "    destinatario=\"gabriel.garcia@utp.edu.co\",\n",
    "    ciclos=1    # correr 3 veces y detener\n",
    ")\n"
   ]
  },
  {
   "cell_type": "code",
   "execution_count": 76,
   "id": "850b0365",
   "metadata": {},
   "outputs": [],
   "source": [
    "alertas_completo = pd.read_excel('../datasets/generados/alertas_completo.xlsx')\n",
    "alertas_hoy = pd.read_excel('../datasets/generados/alertas_hoy.xlsx')"
   ]
  },
  {
   "cell_type": "code",
   "execution_count": 77,
   "id": "4043221e",
   "metadata": {},
   "outputs": [
    {
     "data": {
      "application/vnd.microsoft.datawrangler.viewer.v0+json": {
       "columns": [
        {
         "name": "index",
         "rawType": "int64",
         "type": "integer"
        },
        {
         "name": "auditoria_id",
         "rawType": "int64",
         "type": "integer"
        },
        {
         "name": "cliente",
         "rawType": "object",
         "type": "string"
        },
        {
         "name": "fotos_esperadas",
         "rawType": "int64",
         "type": "integer"
        },
        {
         "name": "fotos_cargadas",
         "rawType": "int64",
         "type": "integer"
        },
        {
         "name": "fotos_faltantes",
         "rawType": "int64",
         "type": "integer"
        }
       ],
       "ref": "c7c47467-6a66-4ff4-8b1c-33697716dd0a",
       "rows": [
        [
         "0",
         "4",
         "Cliente_4",
         "6",
         "2",
         "4"
        ],
        [
         "1",
         "6",
         "Cliente_17",
         "4",
         "2",
         "2"
        ],
        [
         "2",
         "13",
         "Cliente_8",
         "9",
         "4",
         "5"
        ],
        [
         "3",
         "14",
         "Cliente_25",
         "6",
         "2",
         "4"
        ],
        [
         "4",
         "20",
         "Cliente_29",
         "6",
         "3",
         "3"
        ],
        [
         "5",
         "29",
         "Cliente_23",
         "8",
         "5",
         "3"
        ],
        [
         "6",
         "56",
         "Cliente_2",
         "4",
         "3",
         "1"
        ],
        [
         "7",
         "57",
         "Cliente_5",
         "9",
         "3",
         "6"
        ],
        [
         "8",
         "59",
         "Cliente_3",
         "6",
         "4",
         "2"
        ],
        [
         "9",
         "60",
         "Cliente_16",
         "7",
         "3",
         "4"
        ],
        [
         "10",
         "64",
         "Cliente_12",
         "8",
         "4",
         "4"
        ],
        [
         "11",
         "68",
         "Cliente_12",
         "8",
         "7",
         "1"
        ],
        [
         "12",
         "70",
         "Cliente_17",
         "4",
         "2",
         "2"
        ],
        [
         "13",
         "79",
         "Cliente_24",
         "8",
         "4",
         "4"
        ],
        [
         "14",
         "84",
         "Cliente_7",
         "7",
         "3",
         "4"
        ],
        [
         "15",
         "95",
         "Cliente_12",
         "8",
         "6",
         "2"
        ],
        [
         "16",
         "118",
         "Cliente_11",
         "4",
         "2",
         "2"
        ],
        [
         "17",
         "119",
         "Cliente_29",
         "6",
         "3",
         "3"
        ],
        [
         "18",
         "124",
         "Cliente_12",
         "8",
         "2",
         "6"
        ],
        [
         "19",
         "125",
         "Cliente_19",
         "8",
         "5",
         "3"
        ],
        [
         "20",
         "126",
         "Cliente_16",
         "7",
         "4",
         "3"
        ],
        [
         "21",
         "131",
         "Cliente_17",
         "4",
         "3",
         "1"
        ],
        [
         "22",
         "134",
         "Cliente_28",
         "6",
         "4",
         "2"
        ],
        [
         "23",
         "136",
         "Cliente_13",
         "7",
         "5",
         "2"
        ],
        [
         "24",
         "139",
         "Cliente_7",
         "7",
         "6",
         "1"
        ],
        [
         "25",
         "150",
         "Cliente_22",
         "6",
         "3",
         "3"
        ],
        [
         "26",
         "166",
         "Cliente_11",
         "4",
         "3",
         "1"
        ],
        [
         "27",
         "167",
         "Cliente_17",
         "4",
         "2",
         "2"
        ],
        [
         "28",
         "179",
         "Cliente_11",
         "4",
         "3",
         "1"
        ],
        [
         "29",
         "183",
         "Cliente_27",
         "9",
         "7",
         "2"
        ],
        [
         "30",
         "190",
         "Cliente_25",
         "6",
         "2",
         "4"
        ],
        [
         "31",
         "205",
         "Cliente_5",
         "9",
         "4",
         "5"
        ],
        [
         "32",
         "211",
         "Cliente_13",
         "7",
         "3",
         "4"
        ],
        [
         "33",
         "232",
         "Cliente_4",
         "6",
         "3",
         "3"
        ],
        [
         "34",
         "237",
         "Cliente_27",
         "9",
         "5",
         "4"
        ],
        [
         "35",
         "243",
         "Cliente_14",
         "5",
         "2",
         "3"
        ],
        [
         "36",
         "262",
         "Cliente_29",
         "6",
         "2",
         "4"
        ],
        [
         "37",
         "263",
         "Cliente_13",
         "7",
         "4",
         "3"
        ],
        [
         "38",
         "273",
         "Cliente_11",
         "4",
         "2",
         "2"
        ],
        [
         "39",
         "278",
         "Cliente_14",
         "5",
         "4",
         "1"
        ],
        [
         "40",
         "288",
         "Cliente_10",
         "4",
         "2",
         "2"
        ],
        [
         "41",
         "299",
         "Cliente_14",
         "5",
         "4",
         "1"
        ],
        [
         "42",
         "303",
         "Cliente_5",
         "9",
         "2",
         "7"
        ],
        [
         "43",
         "315",
         "Cliente_13",
         "7",
         "6",
         "1"
        ],
        [
         "44",
         "325",
         "Cliente_13",
         "7",
         "5",
         "2"
        ],
        [
         "45",
         "332",
         "Cliente_19",
         "8",
         "6",
         "2"
        ],
        [
         "46",
         "335",
         "Cliente_25",
         "6",
         "5",
         "1"
        ],
        [
         "47",
         "343",
         "Cliente_18",
         "5",
         "2",
         "3"
        ],
        [
         "48",
         "344",
         "Cliente_13",
         "7",
         "2",
         "5"
        ],
        [
         "49",
         "351",
         "Cliente_16",
         "7",
         "3",
         "4"
        ]
       ],
       "shape": {
        "columns": 5,
        "rows": 146
       }
      },
      "text/html": [
       "<div>\n",
       "<style scoped>\n",
       "    .dataframe tbody tr th:only-of-type {\n",
       "        vertical-align: middle;\n",
       "    }\n",
       "\n",
       "    .dataframe tbody tr th {\n",
       "        vertical-align: top;\n",
       "    }\n",
       "\n",
       "    .dataframe thead th {\n",
       "        text-align: right;\n",
       "    }\n",
       "</style>\n",
       "<table border=\"1\" class=\"dataframe\">\n",
       "  <thead>\n",
       "    <tr style=\"text-align: right;\">\n",
       "      <th></th>\n",
       "      <th>auditoria_id</th>\n",
       "      <th>cliente</th>\n",
       "      <th>fotos_esperadas</th>\n",
       "      <th>fotos_cargadas</th>\n",
       "      <th>fotos_faltantes</th>\n",
       "    </tr>\n",
       "  </thead>\n",
       "  <tbody>\n",
       "    <tr>\n",
       "      <th>0</th>\n",
       "      <td>4</td>\n",
       "      <td>Cliente_4</td>\n",
       "      <td>6</td>\n",
       "      <td>2</td>\n",
       "      <td>4</td>\n",
       "    </tr>\n",
       "    <tr>\n",
       "      <th>1</th>\n",
       "      <td>6</td>\n",
       "      <td>Cliente_17</td>\n",
       "      <td>4</td>\n",
       "      <td>2</td>\n",
       "      <td>2</td>\n",
       "    </tr>\n",
       "    <tr>\n",
       "      <th>2</th>\n",
       "      <td>13</td>\n",
       "      <td>Cliente_8</td>\n",
       "      <td>9</td>\n",
       "      <td>4</td>\n",
       "      <td>5</td>\n",
       "    </tr>\n",
       "    <tr>\n",
       "      <th>3</th>\n",
       "      <td>14</td>\n",
       "      <td>Cliente_25</td>\n",
       "      <td>6</td>\n",
       "      <td>2</td>\n",
       "      <td>4</td>\n",
       "    </tr>\n",
       "    <tr>\n",
       "      <th>4</th>\n",
       "      <td>20</td>\n",
       "      <td>Cliente_29</td>\n",
       "      <td>6</td>\n",
       "      <td>3</td>\n",
       "      <td>3</td>\n",
       "    </tr>\n",
       "    <tr>\n",
       "      <th>...</th>\n",
       "      <td>...</td>\n",
       "      <td>...</td>\n",
       "      <td>...</td>\n",
       "      <td>...</td>\n",
       "      <td>...</td>\n",
       "    </tr>\n",
       "    <tr>\n",
       "      <th>141</th>\n",
       "      <td>669</td>\n",
       "      <td>Cliente_30</td>\n",
       "      <td>6</td>\n",
       "      <td>5</td>\n",
       "      <td>1</td>\n",
       "    </tr>\n",
       "    <tr>\n",
       "      <th>142</th>\n",
       "      <td>671</td>\n",
       "      <td>Cliente_28</td>\n",
       "      <td>6</td>\n",
       "      <td>3</td>\n",
       "      <td>3</td>\n",
       "    </tr>\n",
       "    <tr>\n",
       "      <th>143</th>\n",
       "      <td>674</td>\n",
       "      <td>Cliente_4</td>\n",
       "      <td>6</td>\n",
       "      <td>2</td>\n",
       "      <td>4</td>\n",
       "    </tr>\n",
       "    <tr>\n",
       "      <th>144</th>\n",
       "      <td>676</td>\n",
       "      <td>Cliente_23</td>\n",
       "      <td>8</td>\n",
       "      <td>6</td>\n",
       "      <td>2</td>\n",
       "    </tr>\n",
       "    <tr>\n",
       "      <th>145</th>\n",
       "      <td>680</td>\n",
       "      <td>Cliente_22</td>\n",
       "      <td>6</td>\n",
       "      <td>4</td>\n",
       "      <td>2</td>\n",
       "    </tr>\n",
       "  </tbody>\n",
       "</table>\n",
       "<p>146 rows × 5 columns</p>\n",
       "</div>"
      ],
      "text/plain": [
       "     auditoria_id     cliente  fotos_esperadas  fotos_cargadas  \\\n",
       "0               4   Cliente_4                6               2   \n",
       "1               6  Cliente_17                4               2   \n",
       "2              13   Cliente_8                9               4   \n",
       "3              14  Cliente_25                6               2   \n",
       "4              20  Cliente_29                6               3   \n",
       "..            ...         ...              ...             ...   \n",
       "141           669  Cliente_30                6               5   \n",
       "142           671  Cliente_28                6               3   \n",
       "143           674   Cliente_4                6               2   \n",
       "144           676  Cliente_23                8               6   \n",
       "145           680  Cliente_22                6               4   \n",
       "\n",
       "     fotos_faltantes  \n",
       "0                  4  \n",
       "1                  2  \n",
       "2                  5  \n",
       "3                  4  \n",
       "4                  3  \n",
       "..               ...  \n",
       "141                1  \n",
       "142                3  \n",
       "143                4  \n",
       "144                2  \n",
       "145                2  \n",
       "\n",
       "[146 rows x 5 columns]"
      ]
     },
     "execution_count": 77,
     "metadata": {},
     "output_type": "execute_result"
    }
   ],
   "source": [
    "alertas_completo"
   ]
  },
  {
   "cell_type": "code",
   "execution_count": 78,
   "id": "6e524ec0",
   "metadata": {},
   "outputs": [
    {
     "name": "stdout",
     "output_type": "stream",
     "text": [
      "<class 'pandas.core.frame.DataFrame'>\n",
      "RangeIndex: 146 entries, 0 to 145\n",
      "Data columns (total 5 columns):\n",
      " #   Column           Non-Null Count  Dtype \n",
      "---  ------           --------------  ----- \n",
      " 0   auditoria_id     146 non-null    int64 \n",
      " 1   cliente          146 non-null    object\n",
      " 2   fotos_esperadas  146 non-null    int64 \n",
      " 3   fotos_cargadas   146 non-null    int64 \n",
      " 4   fotos_faltantes  146 non-null    int64 \n",
      "dtypes: int64(4), object(1)\n",
      "memory usage: 5.8+ KB\n"
     ]
    }
   ],
   "source": [
    "alertas_completo.info()"
   ]
  },
  {
   "cell_type": "code",
   "execution_count": 79,
   "id": "6c7f2c50",
   "metadata": {},
   "outputs": [
    {
     "data": {
      "application/vnd.microsoft.datawrangler.viewer.v0+json": {
       "columns": [
        {
         "name": "index",
         "rawType": "int64",
         "type": "integer"
        },
        {
         "name": "auditoria_id",
         "rawType": "int64",
         "type": "integer"
        },
        {
         "name": "cliente",
         "rawType": "object",
         "type": "string"
        },
        {
         "name": "fotos_esperadas",
         "rawType": "int64",
         "type": "integer"
        },
        {
         "name": "fotos_cargadas",
         "rawType": "int64",
         "type": "integer"
        },
        {
         "name": "fotos_faltantes",
         "rawType": "int64",
         "type": "integer"
        }
       ],
       "ref": "84b1d4fd-d5d8-4fee-b3f3-54f50a42c468",
       "rows": [
        [
         "0",
         "503",
         "Cliente_30",
         "6",
         "2",
         "4"
        ],
        [
         "1",
         "504",
         "Cliente_6",
         "5",
         "4",
         "1"
        ],
        [
         "2",
         "506",
         "Cliente_25",
         "6",
         "4",
         "2"
        ],
        [
         "3",
         "507",
         "Cliente_16",
         "7",
         "3",
         "4"
        ],
        [
         "4",
         "508",
         "Cliente_13",
         "7",
         "4",
         "3"
        ],
        [
         "5",
         "510",
         "Cliente_26",
         "4",
         "2",
         "2"
        ],
        [
         "6",
         "511",
         "Cliente_8",
         "9",
         "6",
         "3"
        ],
        [
         "7",
         "512",
         "Cliente_30",
         "6",
         "3",
         "3"
        ],
        [
         "8",
         "515",
         "Cliente_23",
         "8",
         "2",
         "6"
        ],
        [
         "9",
         "516",
         "Cliente_10",
         "4",
         "2",
         "2"
        ],
        [
         "10",
         "517",
         "Cliente_14",
         "5",
         "2",
         "3"
        ],
        [
         "11",
         "518",
         "Cliente_18",
         "5",
         "4",
         "1"
        ],
        [
         "12",
         "519",
         "Cliente_6",
         "5",
         "2",
         "3"
        ],
        [
         "13",
         "523",
         "Cliente_20",
         "6",
         "3",
         "3"
        ],
        [
         "14",
         "524",
         "Cliente_16",
         "7",
         "5",
         "2"
        ],
        [
         "15",
         "526",
         "Cliente_8",
         "9",
         "5",
         "4"
        ],
        [
         "16",
         "530",
         "Cliente_23",
         "8",
         "5",
         "3"
        ],
        [
         "17",
         "533",
         "Cliente_13",
         "7",
         "5",
         "2"
        ],
        [
         "18",
         "534",
         "Cliente_18",
         "5",
         "4",
         "1"
        ],
        [
         "19",
         "538",
         "Cliente_28",
         "6",
         "3",
         "3"
        ],
        [
         "20",
         "539",
         "Cliente_7",
         "7",
         "3",
         "4"
        ],
        [
         "21",
         "540",
         "Cliente_21",
         "4",
         "3",
         "1"
        ],
        [
         "22",
         "542",
         "Cliente_27",
         "9",
         "4",
         "5"
        ],
        [
         "23",
         "543",
         "Cliente_13",
         "7",
         "3",
         "4"
        ],
        [
         "24",
         "544",
         "Cliente_21",
         "4",
         "2",
         "2"
        ],
        [
         "25",
         "547",
         "Cliente_24",
         "8",
         "7",
         "1"
        ],
        [
         "26",
         "548",
         "Cliente_1",
         "4",
         "2",
         "2"
        ],
        [
         "27",
         "549",
         "Cliente_12",
         "8",
         "2",
         "6"
        ],
        [
         "28",
         "553",
         "Cliente_25",
         "6",
         "5",
         "1"
        ],
        [
         "29",
         "556",
         "Cliente_20",
         "6",
         "4",
         "2"
        ],
        [
         "30",
         "560",
         "Cliente_16",
         "7",
         "5",
         "2"
        ],
        [
         "31",
         "562",
         "Cliente_5",
         "9",
         "7",
         "2"
        ],
        [
         "32",
         "563",
         "Cliente_19",
         "8",
         "3",
         "5"
        ],
        [
         "33",
         "564",
         "Cliente_7",
         "7",
         "3",
         "4"
        ],
        [
         "34",
         "567",
         "Cliente_18",
         "5",
         "2",
         "3"
        ],
        [
         "35",
         "570",
         "Cliente_28",
         "6",
         "5",
         "1"
        ],
        [
         "36",
         "580",
         "Cliente_21",
         "4",
         "3",
         "1"
        ],
        [
         "37",
         "581",
         "Cliente_7",
         "7",
         "5",
         "2"
        ],
        [
         "38",
         "582",
         "Cliente_1",
         "4",
         "2",
         "2"
        ],
        [
         "39",
         "587",
         "Cliente_29",
         "6",
         "2",
         "4"
        ],
        [
         "40",
         "589",
         "Cliente_19",
         "8",
         "7",
         "1"
        ],
        [
         "41",
         "593",
         "Cliente_15",
         "9",
         "8",
         "1"
        ],
        [
         "42",
         "594",
         "Cliente_23",
         "8",
         "4",
         "4"
        ],
        [
         "43",
         "597",
         "Cliente_3",
         "6",
         "4",
         "2"
        ],
        [
         "44",
         "599",
         "Cliente_29",
         "6",
         "2",
         "4"
        ],
        [
         "45",
         "601",
         "Cliente_5",
         "9",
         "7",
         "2"
        ],
        [
         "46",
         "602",
         "Cliente_9",
         "4",
         "2",
         "2"
        ],
        [
         "47",
         "606",
         "Cliente_1",
         "4",
         "3",
         "1"
        ],
        [
         "48",
         "607",
         "Cliente_1",
         "4",
         "2",
         "2"
        ],
        [
         "49",
         "609",
         "Cliente_17",
         "4",
         "2",
         "2"
        ]
       ],
       "shape": {
        "columns": 5,
        "rows": 81
       }
      },
      "text/html": [
       "<div>\n",
       "<style scoped>\n",
       "    .dataframe tbody tr th:only-of-type {\n",
       "        vertical-align: middle;\n",
       "    }\n",
       "\n",
       "    .dataframe tbody tr th {\n",
       "        vertical-align: top;\n",
       "    }\n",
       "\n",
       "    .dataframe thead th {\n",
       "        text-align: right;\n",
       "    }\n",
       "</style>\n",
       "<table border=\"1\" class=\"dataframe\">\n",
       "  <thead>\n",
       "    <tr style=\"text-align: right;\">\n",
       "      <th></th>\n",
       "      <th>auditoria_id</th>\n",
       "      <th>cliente</th>\n",
       "      <th>fotos_esperadas</th>\n",
       "      <th>fotos_cargadas</th>\n",
       "      <th>fotos_faltantes</th>\n",
       "    </tr>\n",
       "  </thead>\n",
       "  <tbody>\n",
       "    <tr>\n",
       "      <th>0</th>\n",
       "      <td>503</td>\n",
       "      <td>Cliente_30</td>\n",
       "      <td>6</td>\n",
       "      <td>2</td>\n",
       "      <td>4</td>\n",
       "    </tr>\n",
       "    <tr>\n",
       "      <th>1</th>\n",
       "      <td>504</td>\n",
       "      <td>Cliente_6</td>\n",
       "      <td>5</td>\n",
       "      <td>4</td>\n",
       "      <td>1</td>\n",
       "    </tr>\n",
       "    <tr>\n",
       "      <th>2</th>\n",
       "      <td>506</td>\n",
       "      <td>Cliente_25</td>\n",
       "      <td>6</td>\n",
       "      <td>4</td>\n",
       "      <td>2</td>\n",
       "    </tr>\n",
       "    <tr>\n",
       "      <th>3</th>\n",
       "      <td>507</td>\n",
       "      <td>Cliente_16</td>\n",
       "      <td>7</td>\n",
       "      <td>3</td>\n",
       "      <td>4</td>\n",
       "    </tr>\n",
       "    <tr>\n",
       "      <th>4</th>\n",
       "      <td>508</td>\n",
       "      <td>Cliente_13</td>\n",
       "      <td>7</td>\n",
       "      <td>4</td>\n",
       "      <td>3</td>\n",
       "    </tr>\n",
       "    <tr>\n",
       "      <th>...</th>\n",
       "      <td>...</td>\n",
       "      <td>...</td>\n",
       "      <td>...</td>\n",
       "      <td>...</td>\n",
       "      <td>...</td>\n",
       "    </tr>\n",
       "    <tr>\n",
       "      <th>76</th>\n",
       "      <td>669</td>\n",
       "      <td>Cliente_30</td>\n",
       "      <td>6</td>\n",
       "      <td>5</td>\n",
       "      <td>1</td>\n",
       "    </tr>\n",
       "    <tr>\n",
       "      <th>77</th>\n",
       "      <td>671</td>\n",
       "      <td>Cliente_28</td>\n",
       "      <td>6</td>\n",
       "      <td>3</td>\n",
       "      <td>3</td>\n",
       "    </tr>\n",
       "    <tr>\n",
       "      <th>78</th>\n",
       "      <td>674</td>\n",
       "      <td>Cliente_4</td>\n",
       "      <td>6</td>\n",
       "      <td>2</td>\n",
       "      <td>4</td>\n",
       "    </tr>\n",
       "    <tr>\n",
       "      <th>79</th>\n",
       "      <td>676</td>\n",
       "      <td>Cliente_23</td>\n",
       "      <td>8</td>\n",
       "      <td>6</td>\n",
       "      <td>2</td>\n",
       "    </tr>\n",
       "    <tr>\n",
       "      <th>80</th>\n",
       "      <td>680</td>\n",
       "      <td>Cliente_22</td>\n",
       "      <td>6</td>\n",
       "      <td>4</td>\n",
       "      <td>2</td>\n",
       "    </tr>\n",
       "  </tbody>\n",
       "</table>\n",
       "<p>81 rows × 5 columns</p>\n",
       "</div>"
      ],
      "text/plain": [
       "    auditoria_id     cliente  fotos_esperadas  fotos_cargadas  fotos_faltantes\n",
       "0            503  Cliente_30                6               2                4\n",
       "1            504   Cliente_6                5               4                1\n",
       "2            506  Cliente_25                6               4                2\n",
       "3            507  Cliente_16                7               3                4\n",
       "4            508  Cliente_13                7               4                3\n",
       "..           ...         ...              ...             ...              ...\n",
       "76           669  Cliente_30                6               5                1\n",
       "77           671  Cliente_28                6               3                3\n",
       "78           674   Cliente_4                6               2                4\n",
       "79           676  Cliente_23                8               6                2\n",
       "80           680  Cliente_22                6               4                2\n",
       "\n",
       "[81 rows x 5 columns]"
      ]
     },
     "execution_count": 79,
     "metadata": {},
     "output_type": "execute_result"
    }
   ],
   "source": [
    "alertas_hoy"
   ]
  },
  {
   "cell_type": "code",
   "execution_count": 80,
   "id": "0d7e5a0d",
   "metadata": {},
   "outputs": [
    {
     "name": "stdout",
     "output_type": "stream",
     "text": [
      "<class 'pandas.core.frame.DataFrame'>\n",
      "RangeIndex: 81 entries, 0 to 80\n",
      "Data columns (total 5 columns):\n",
      " #   Column           Non-Null Count  Dtype \n",
      "---  ------           --------------  ----- \n",
      " 0   auditoria_id     81 non-null     int64 \n",
      " 1   cliente          81 non-null     object\n",
      " 2   fotos_esperadas  81 non-null     int64 \n",
      " 3   fotos_cargadas   81 non-null     int64 \n",
      " 4   fotos_faltantes  81 non-null     int64 \n",
      "dtypes: int64(4), object(1)\n",
      "memory usage: 3.3+ KB\n"
     ]
    }
   ],
   "source": [
    "alertas_hoy.info()"
   ]
  },
  {
   "cell_type": "code",
   "execution_count": 81,
   "id": "820b9698",
   "metadata": {},
   "outputs": [
    {
     "data": {
      "application/vnd.microsoft.datawrangler.viewer.v0+json": {
       "columns": [
        {
         "name": "index",
         "rawType": "int64",
         "type": "integer"
        },
        {
         "name": "auditoria_id",
         "rawType": "int64",
         "type": "integer"
        },
        {
         "name": "fecha",
         "rawType": "datetime64[ns]",
         "type": "datetime"
        },
        {
         "name": "tienda",
         "rawType": "object",
         "type": "string"
        },
        {
         "name": "auditor",
         "rawType": "object",
         "type": "string"
        },
        {
         "name": "cliente_id",
         "rawType": "int64",
         "type": "integer"
        }
       ],
       "ref": "aa9e20ec-bf4b-465a-9722-b6f291b79e27",
       "rows": [
        [
         "0",
         "1",
         "2025-08-07 23:09:32",
         "Tienda_36",
         "Auditor_20",
         "24"
        ],
        [
         "1",
         "2",
         "2025-02-21 05:49:17",
         "Tienda_34",
         "Auditor_1",
         "30"
        ],
        [
         "2",
         "3",
         "2025-02-10 07:41:06",
         "Tienda_18",
         "Auditor_6",
         "20"
        ],
        [
         "3",
         "4",
         "2025-01-20 05:19:57",
         "Tienda_8",
         "Auditor_9",
         "4"
        ],
        [
         "4",
         "5",
         "2025-08-17 07:29:57",
         "Tienda_26",
         "Auditor_13",
         "12"
        ],
        [
         "5",
         "6",
         "2025-04-09 20:01:28",
         "Tienda_44",
         "Auditor_12",
         "17"
        ],
        [
         "6",
         "7",
         "2025-02-13 12:18:29",
         "Tienda_18",
         "Auditor_19",
         "27"
        ],
        [
         "7",
         "8",
         "2025-02-01 23:36:15",
         "Tienda_11",
         "Auditor_8",
         "10"
        ],
        [
         "8",
         "9",
         "2025-04-27 09:30:15",
         "Tienda_19",
         "Auditor_18",
         "9"
        ],
        [
         "9",
         "10",
         "2025-03-31 10:14:11",
         "Tienda_31",
         "Auditor_11",
         "7"
        ],
        [
         "10",
         "11",
         "2025-03-15 18:29:23",
         "Tienda_10",
         "Auditor_8",
         "15"
        ],
        [
         "11",
         "12",
         "2025-05-01 11:13:52",
         "Tienda_18",
         "Auditor_1",
         "7"
        ],
        [
         "12",
         "13",
         "2025-05-27 05:45:18",
         "Tienda_23",
         "Auditor_2",
         "8"
        ],
        [
         "13",
         "14",
         "2025-08-29 03:35:10",
         "Tienda_12",
         "Auditor_10",
         "25"
        ],
        [
         "14",
         "15",
         "2025-05-29 16:10:03",
         "Tienda_21",
         "Auditor_10",
         "13"
        ],
        [
         "15",
         "16",
         "2025-02-21 11:58:58",
         "Tienda_6",
         "Auditor_16",
         "4"
        ],
        [
         "16",
         "17",
         "2025-03-05 04:23:55",
         "Tienda_28",
         "Auditor_17",
         "11"
        ],
        [
         "17",
         "18",
         "2025-03-28 02:58:00",
         "Tienda_38",
         "Auditor_18",
         "13"
        ],
        [
         "18",
         "19",
         "2025-04-23 11:14:03",
         "Tienda_35",
         "Auditor_17",
         "22"
        ],
        [
         "19",
         "20",
         "2025-06-18 13:43:56",
         "Tienda_36",
         "Auditor_9",
         "29"
        ],
        [
         "20",
         "21",
         "2025-06-21 12:37:39",
         "Tienda_11",
         "Auditor_15",
         "5"
        ],
        [
         "21",
         "22",
         "2025-06-22 13:08:40",
         "Tienda_49",
         "Auditor_17",
         "19"
        ],
        [
         "22",
         "23",
         "2025-05-26 14:39:42",
         "Tienda_20",
         "Auditor_20",
         "26"
        ],
        [
         "23",
         "24",
         "2025-08-04 00:12:51",
         "Tienda_29",
         "Auditor_5",
         "29"
        ],
        [
         "24",
         "25",
         "2025-02-01 13:03:58",
         "Tienda_9",
         "Auditor_8",
         "13"
        ],
        [
         "25",
         "26",
         "2025-02-04 02:33:55",
         "Tienda_20",
         "Auditor_18",
         "22"
        ],
        [
         "26",
         "27",
         "2025-03-02 17:36:32",
         "Tienda_4",
         "Auditor_14",
         "20"
        ],
        [
         "27",
         "28",
         "2025-01-20 18:02:55",
         "Tienda_6",
         "Auditor_15",
         "10"
        ],
        [
         "28",
         "29",
         "2025-06-23 17:21:38",
         "Tienda_8",
         "Auditor_5",
         "23"
        ],
        [
         "29",
         "30",
         "2025-06-03 07:23:09",
         "Tienda_1",
         "Auditor_7",
         "8"
        ],
        [
         "30",
         "31",
         "2025-03-15 15:50:51",
         "Tienda_40",
         "Auditor_3",
         "30"
        ],
        [
         "31",
         "32",
         "2025-03-11 08:58:18",
         "Tienda_48",
         "Auditor_5",
         "16"
        ],
        [
         "32",
         "33",
         "2025-07-23 23:03:28",
         "Tienda_10",
         "Auditor_13",
         "16"
        ],
        [
         "33",
         "34",
         "2025-06-20 12:13:40",
         "Tienda_10",
         "Auditor_9",
         "1"
        ],
        [
         "34",
         "35",
         "2025-03-25 07:38:36",
         "Tienda_45",
         "Auditor_13",
         "7"
        ],
        [
         "35",
         "36",
         "2025-03-26 17:32:54",
         "Tienda_18",
         "Auditor_8",
         "9"
        ],
        [
         "36",
         "37",
         "2025-03-25 13:50:29",
         "Tienda_41",
         "Auditor_11",
         "16"
        ],
        [
         "37",
         "38",
         "2025-05-17 18:56:31",
         "Tienda_19",
         "Auditor_16",
         "16"
        ],
        [
         "38",
         "39",
         "2025-03-06 22:40:46",
         "Tienda_30",
         "Auditor_2",
         "15"
        ],
        [
         "39",
         "40",
         "2025-08-24 05:14:47",
         "Tienda_6",
         "Auditor_16",
         "1"
        ],
        [
         "40",
         "41",
         "2025-02-27 19:49:31",
         "Tienda_30",
         "Auditor_12",
         "11"
        ],
        [
         "41",
         "42",
         "2025-03-21 08:06:56",
         "Tienda_50",
         "Auditor_15",
         "12"
        ],
        [
         "42",
         "43",
         "2025-05-07 18:31:42",
         "Tienda_16",
         "Auditor_20",
         "16"
        ],
        [
         "43",
         "44",
         "2025-02-14 11:44:52",
         "Tienda_42",
         "Auditor_5",
         "23"
        ],
        [
         "44",
         "45",
         "2025-02-04 12:56:03",
         "Tienda_8",
         "Auditor_1",
         "19"
        ],
        [
         "45",
         "46",
         "2025-02-11 03:51:04",
         "Tienda_31",
         "Auditor_15",
         "8"
        ],
        [
         "46",
         "47",
         "2025-05-20 04:25:38",
         "Tienda_35",
         "Auditor_10",
         "5"
        ],
        [
         "47",
         "48",
         "2025-08-20 17:09:48",
         "Tienda_33",
         "Auditor_16",
         "2"
        ],
        [
         "48",
         "49",
         "2025-08-03 15:42:23",
         "Tienda_4",
         "Auditor_17",
         "18"
        ],
        [
         "49",
         "50",
         "2025-04-12 00:52:45",
         "Tienda_34",
         "Auditor_18",
         "21"
        ]
       ],
       "shape": {
        "columns": 5,
        "rows": 680
       }
      },
      "text/html": [
       "<div>\n",
       "<style scoped>\n",
       "    .dataframe tbody tr th:only-of-type {\n",
       "        vertical-align: middle;\n",
       "    }\n",
       "\n",
       "    .dataframe tbody tr th {\n",
       "        vertical-align: top;\n",
       "    }\n",
       "\n",
       "    .dataframe thead th {\n",
       "        text-align: right;\n",
       "    }\n",
       "</style>\n",
       "<table border=\"1\" class=\"dataframe\">\n",
       "  <thead>\n",
       "    <tr style=\"text-align: right;\">\n",
       "      <th></th>\n",
       "      <th>auditoria_id</th>\n",
       "      <th>fecha</th>\n",
       "      <th>tienda</th>\n",
       "      <th>auditor</th>\n",
       "      <th>cliente_id</th>\n",
       "    </tr>\n",
       "  </thead>\n",
       "  <tbody>\n",
       "    <tr>\n",
       "      <th>0</th>\n",
       "      <td>1</td>\n",
       "      <td>2025-08-07 23:09:32.000000</td>\n",
       "      <td>Tienda_36</td>\n",
       "      <td>Auditor_20</td>\n",
       "      <td>24</td>\n",
       "    </tr>\n",
       "    <tr>\n",
       "      <th>1</th>\n",
       "      <td>2</td>\n",
       "      <td>2025-02-21 05:49:17.000000</td>\n",
       "      <td>Tienda_34</td>\n",
       "      <td>Auditor_1</td>\n",
       "      <td>30</td>\n",
       "    </tr>\n",
       "    <tr>\n",
       "      <th>2</th>\n",
       "      <td>3</td>\n",
       "      <td>2025-02-10 07:41:06.000000</td>\n",
       "      <td>Tienda_18</td>\n",
       "      <td>Auditor_6</td>\n",
       "      <td>20</td>\n",
       "    </tr>\n",
       "    <tr>\n",
       "      <th>3</th>\n",
       "      <td>4</td>\n",
       "      <td>2025-01-20 05:19:57.000000</td>\n",
       "      <td>Tienda_8</td>\n",
       "      <td>Auditor_9</td>\n",
       "      <td>4</td>\n",
       "    </tr>\n",
       "    <tr>\n",
       "      <th>4</th>\n",
       "      <td>5</td>\n",
       "      <td>2025-08-17 07:29:57.000000</td>\n",
       "      <td>Tienda_26</td>\n",
       "      <td>Auditor_13</td>\n",
       "      <td>12</td>\n",
       "    </tr>\n",
       "    <tr>\n",
       "      <th>...</th>\n",
       "      <td>...</td>\n",
       "      <td>...</td>\n",
       "      <td>...</td>\n",
       "      <td>...</td>\n",
       "      <td>...</td>\n",
       "    </tr>\n",
       "    <tr>\n",
       "      <th>675</th>\n",
       "      <td>676</td>\n",
       "      <td>2025-09-08 11:17:18.735016</td>\n",
       "      <td>Tienda_35</td>\n",
       "      <td>Auditor_15</td>\n",
       "      <td>23</td>\n",
       "    </tr>\n",
       "    <tr>\n",
       "      <th>676</th>\n",
       "      <td>677</td>\n",
       "      <td>2025-09-08 11:17:18.735016</td>\n",
       "      <td>Tienda_40</td>\n",
       "      <td>Auditor_15</td>\n",
       "      <td>16</td>\n",
       "    </tr>\n",
       "    <tr>\n",
       "      <th>677</th>\n",
       "      <td>678</td>\n",
       "      <td>2025-09-08 11:17:18.735016</td>\n",
       "      <td>Tienda_22</td>\n",
       "      <td>Auditor_4</td>\n",
       "      <td>21</td>\n",
       "    </tr>\n",
       "    <tr>\n",
       "      <th>678</th>\n",
       "      <td>679</td>\n",
       "      <td>2025-09-08 11:17:18.735016</td>\n",
       "      <td>Tienda_39</td>\n",
       "      <td>Auditor_10</td>\n",
       "      <td>1</td>\n",
       "    </tr>\n",
       "    <tr>\n",
       "      <th>679</th>\n",
       "      <td>680</td>\n",
       "      <td>2025-09-08 11:17:18.735016</td>\n",
       "      <td>Tienda_24</td>\n",
       "      <td>Auditor_5</td>\n",
       "      <td>22</td>\n",
       "    </tr>\n",
       "  </tbody>\n",
       "</table>\n",
       "<p>680 rows × 5 columns</p>\n",
       "</div>"
      ],
      "text/plain": [
       "     auditoria_id                      fecha     tienda     auditor  \\\n",
       "0               1 2025-08-07 23:09:32.000000  Tienda_36  Auditor_20   \n",
       "1               2 2025-02-21 05:49:17.000000  Tienda_34   Auditor_1   \n",
       "2               3 2025-02-10 07:41:06.000000  Tienda_18   Auditor_6   \n",
       "3               4 2025-01-20 05:19:57.000000   Tienda_8   Auditor_9   \n",
       "4               5 2025-08-17 07:29:57.000000  Tienda_26  Auditor_13   \n",
       "..            ...                        ...        ...         ...   \n",
       "675           676 2025-09-08 11:17:18.735016  Tienda_35  Auditor_15   \n",
       "676           677 2025-09-08 11:17:18.735016  Tienda_40  Auditor_15   \n",
       "677           678 2025-09-08 11:17:18.735016  Tienda_22   Auditor_4   \n",
       "678           679 2025-09-08 11:17:18.735016  Tienda_39  Auditor_10   \n",
       "679           680 2025-09-08 11:17:18.735016  Tienda_24   Auditor_5   \n",
       "\n",
       "     cliente_id  \n",
       "0            24  \n",
       "1            30  \n",
       "2            20  \n",
       "3             4  \n",
       "4            12  \n",
       "..          ...  \n",
       "675          23  \n",
       "676          16  \n",
       "677          21  \n",
       "678           1  \n",
       "679          22  \n",
       "\n",
       "[680 rows x 5 columns]"
      ]
     },
     "execution_count": 81,
     "metadata": {},
     "output_type": "execute_result"
    }
   ],
   "source": [
    "auditorias_sim"
   ]
  },
  {
   "cell_type": "code",
   "execution_count": 82,
   "id": "d0cb1702",
   "metadata": {},
   "outputs": [
    {
     "name": "stdout",
     "output_type": "stream",
     "text": [
      "<class 'pandas.core.frame.DataFrame'>\n",
      "RangeIndex: 680 entries, 0 to 679\n",
      "Data columns (total 5 columns):\n",
      " #   Column        Non-Null Count  Dtype         \n",
      "---  ------        --------------  -----         \n",
      " 0   auditoria_id  680 non-null    int64         \n",
      " 1   fecha         680 non-null    datetime64[ns]\n",
      " 2   tienda        680 non-null    object        \n",
      " 3   auditor       680 non-null    object        \n",
      " 4   cliente_id    680 non-null    int64         \n",
      "dtypes: datetime64[ns](1), int64(2), object(2)\n",
      "memory usage: 26.7+ KB\n"
     ]
    }
   ],
   "source": [
    "auditorias_sim.info()"
   ]
  },
  {
   "cell_type": "code",
   "execution_count": 83,
   "id": "d70859c3",
   "metadata": {},
   "outputs": [
    {
     "data": {
      "application/vnd.microsoft.datawrangler.viewer.v0+json": {
       "columns": [
        {
         "name": "index",
         "rawType": "int64",
         "type": "integer"
        },
        {
         "name": "foto_id",
         "rawType": "int64",
         "type": "integer"
        },
        {
         "name": "auditoria_id",
         "rawType": "int64",
         "type": "integer"
        },
        {
         "name": "categoria_id",
         "rawType": "float64",
         "type": "float"
        },
        {
         "name": "tipo",
         "rawType": "object",
         "type": "string"
        }
       ],
       "ref": "47647804-4a1d-43c1-9cd3-464d7d85378e",
       "rows": [
        [
         "0",
         "1",
         "1",
         null,
         "control_inicio"
        ],
        [
         "1",
         "2",
         "1",
         null,
         "control_fin"
        ],
        [
         "2",
         "3",
         "1",
         "3.0",
         "categoria"
        ],
        [
         "3",
         "4",
         "1",
         "5.0",
         "categoria"
        ],
        [
         "4",
         "5",
         "1",
         "15.0",
         "categoria"
        ],
        [
         "5",
         "6",
         "1",
         "10.0",
         "categoria"
        ],
        [
         "6",
         "7",
         "1",
         "11.0",
         "categoria"
        ],
        [
         "7",
         "8",
         "1",
         "9.0",
         "categoria"
        ],
        [
         "8",
         "9",
         "2",
         null,
         "control_inicio"
        ],
        [
         "9",
         "10",
         "2",
         null,
         "control_fin"
        ],
        [
         "10",
         "11",
         "2",
         "3.0",
         "categoria"
        ],
        [
         "11",
         "12",
         "2",
         "14.0",
         "categoria"
        ],
        [
         "12",
         "13",
         "2",
         "13.0",
         "categoria"
        ],
        [
         "13",
         "14",
         "2",
         "4.0",
         "categoria"
        ],
        [
         "14",
         "15",
         "3",
         null,
         "control_inicio"
        ],
        [
         "15",
         "16",
         "3",
         null,
         "control_fin"
        ],
        [
         "16",
         "17",
         "3",
         "5.0",
         "categoria"
        ],
        [
         "17",
         "18",
         "3",
         "9.0",
         "categoria"
        ],
        [
         "18",
         "19",
         "3",
         "15.0",
         "categoria"
        ],
        [
         "19",
         "20",
         "3",
         "12.0",
         "categoria"
        ],
        [
         "20",
         "21",
         "4",
         null,
         "control_inicio"
        ],
        [
         "21",
         "22",
         "4",
         null,
         "control_fin"
        ],
        [
         "22",
         "23",
         "5",
         null,
         "control_inicio"
        ],
        [
         "23",
         "24",
         "5",
         null,
         "control_fin"
        ],
        [
         "24",
         "25",
         "5",
         "4.0",
         "categoria"
        ],
        [
         "25",
         "26",
         "5",
         "11.0",
         "categoria"
        ],
        [
         "26",
         "27",
         "5",
         "6.0",
         "categoria"
        ],
        [
         "27",
         "28",
         "5",
         "14.0",
         "categoria"
        ],
        [
         "28",
         "29",
         "5",
         "1.0",
         "categoria"
        ],
        [
         "29",
         "30",
         "5",
         "3.0",
         "categoria"
        ],
        [
         "30",
         "31",
         "6",
         null,
         "control_inicio"
        ],
        [
         "31",
         "32",
         "6",
         null,
         "control_fin"
        ],
        [
         "32",
         "33",
         "7",
         null,
         "control_inicio"
        ],
        [
         "33",
         "34",
         "7",
         null,
         "control_fin"
        ],
        [
         "34",
         "35",
         "7",
         "5.0",
         "categoria"
        ],
        [
         "35",
         "36",
         "7",
         "4.0",
         "categoria"
        ],
        [
         "36",
         "37",
         "7",
         "12.0",
         "categoria"
        ],
        [
         "37",
         "38",
         "7",
         "6.0",
         "categoria"
        ],
        [
         "38",
         "39",
         "7",
         "14.0",
         "categoria"
        ],
        [
         "39",
         "40",
         "7",
         "13.0",
         "categoria"
        ],
        [
         "40",
         "41",
         "7",
         "3.0",
         "categoria"
        ],
        [
         "41",
         "42",
         "8",
         null,
         "control_inicio"
        ],
        [
         "42",
         "43",
         "8",
         null,
         "control_fin"
        ],
        [
         "43",
         "44",
         "8",
         "4.0",
         "categoria"
        ],
        [
         "44",
         "45",
         "8",
         "15.0",
         "categoria"
        ],
        [
         "45",
         "46",
         "9",
         null,
         "control_inicio"
        ],
        [
         "46",
         "47",
         "9",
         null,
         "control_fin"
        ],
        [
         "47",
         "48",
         "9",
         "11.0",
         "categoria"
        ],
        [
         "48",
         "49",
         "9",
         "12.0",
         "categoria"
        ],
        [
         "49",
         "50",
         "10",
         null,
         "control_inicio"
        ]
       ],
       "shape": {
        "columns": 4,
        "rows": 3816
       }
      },
      "text/html": [
       "<div>\n",
       "<style scoped>\n",
       "    .dataframe tbody tr th:only-of-type {\n",
       "        vertical-align: middle;\n",
       "    }\n",
       "\n",
       "    .dataframe tbody tr th {\n",
       "        vertical-align: top;\n",
       "    }\n",
       "\n",
       "    .dataframe thead th {\n",
       "        text-align: right;\n",
       "    }\n",
       "</style>\n",
       "<table border=\"1\" class=\"dataframe\">\n",
       "  <thead>\n",
       "    <tr style=\"text-align: right;\">\n",
       "      <th></th>\n",
       "      <th>foto_id</th>\n",
       "      <th>auditoria_id</th>\n",
       "      <th>categoria_id</th>\n",
       "      <th>tipo</th>\n",
       "    </tr>\n",
       "  </thead>\n",
       "  <tbody>\n",
       "    <tr>\n",
       "      <th>0</th>\n",
       "      <td>1</td>\n",
       "      <td>1</td>\n",
       "      <td>NaN</td>\n",
       "      <td>control_inicio</td>\n",
       "    </tr>\n",
       "    <tr>\n",
       "      <th>1</th>\n",
       "      <td>2</td>\n",
       "      <td>1</td>\n",
       "      <td>NaN</td>\n",
       "      <td>control_fin</td>\n",
       "    </tr>\n",
       "    <tr>\n",
       "      <th>2</th>\n",
       "      <td>3</td>\n",
       "      <td>1</td>\n",
       "      <td>3.0</td>\n",
       "      <td>categoria</td>\n",
       "    </tr>\n",
       "    <tr>\n",
       "      <th>3</th>\n",
       "      <td>4</td>\n",
       "      <td>1</td>\n",
       "      <td>5.0</td>\n",
       "      <td>categoria</td>\n",
       "    </tr>\n",
       "    <tr>\n",
       "      <th>4</th>\n",
       "      <td>5</td>\n",
       "      <td>1</td>\n",
       "      <td>15.0</td>\n",
       "      <td>categoria</td>\n",
       "    </tr>\n",
       "    <tr>\n",
       "      <th>...</th>\n",
       "      <td>...</td>\n",
       "      <td>...</td>\n",
       "      <td>...</td>\n",
       "      <td>...</td>\n",
       "    </tr>\n",
       "    <tr>\n",
       "      <th>3811</th>\n",
       "      <td>3634</td>\n",
       "      <td>679</td>\n",
       "      <td>5.0</td>\n",
       "      <td>categoria</td>\n",
       "    </tr>\n",
       "    <tr>\n",
       "      <th>3812</th>\n",
       "      <td>3634</td>\n",
       "      <td>680</td>\n",
       "      <td>NaN</td>\n",
       "      <td>control_inicio</td>\n",
       "    </tr>\n",
       "    <tr>\n",
       "      <th>3813</th>\n",
       "      <td>3635</td>\n",
       "      <td>680</td>\n",
       "      <td>NaN</td>\n",
       "      <td>control_fin</td>\n",
       "    </tr>\n",
       "    <tr>\n",
       "      <th>3814</th>\n",
       "      <td>3636</td>\n",
       "      <td>680</td>\n",
       "      <td>13.0</td>\n",
       "      <td>categoria</td>\n",
       "    </tr>\n",
       "    <tr>\n",
       "      <th>3815</th>\n",
       "      <td>3637</td>\n",
       "      <td>680</td>\n",
       "      <td>10.0</td>\n",
       "      <td>categoria</td>\n",
       "    </tr>\n",
       "  </tbody>\n",
       "</table>\n",
       "<p>3816 rows × 4 columns</p>\n",
       "</div>"
      ],
      "text/plain": [
       "      foto_id  auditoria_id  categoria_id            tipo\n",
       "0           1             1           NaN  control_inicio\n",
       "1           2             1           NaN     control_fin\n",
       "2           3             1           3.0       categoria\n",
       "3           4             1           5.0       categoria\n",
       "4           5             1          15.0       categoria\n",
       "...       ...           ...           ...             ...\n",
       "3811     3634           679           5.0       categoria\n",
       "3812     3634           680           NaN  control_inicio\n",
       "3813     3635           680           NaN     control_fin\n",
       "3814     3636           680          13.0       categoria\n",
       "3815     3637           680          10.0       categoria\n",
       "\n",
       "[3816 rows x 4 columns]"
      ]
     },
     "execution_count": 83,
     "metadata": {},
     "output_type": "execute_result"
    }
   ],
   "source": [
    "fotos_cargadas_sim"
   ]
  },
  {
   "cell_type": "code",
   "execution_count": 84,
   "id": "880d4014",
   "metadata": {},
   "outputs": [
    {
     "name": "stdout",
     "output_type": "stream",
     "text": [
      "<class 'pandas.core.frame.DataFrame'>\n",
      "RangeIndex: 3816 entries, 0 to 3815\n",
      "Data columns (total 4 columns):\n",
      " #   Column        Non-Null Count  Dtype  \n",
      "---  ------        --------------  -----  \n",
      " 0   foto_id       3816 non-null   int64  \n",
      " 1   auditoria_id  3816 non-null   int64  \n",
      " 2   categoria_id  2456 non-null   float64\n",
      " 3   tipo          3816 non-null   object \n",
      "dtypes: float64(1), int64(2), object(1)\n",
      "memory usage: 119.4+ KB\n"
     ]
    }
   ],
   "source": [
    "fotos_cargadas_sim.info()"
   ]
  },
  {
   "cell_type": "code",
   "execution_count": 85,
   "id": "9e7c8a35",
   "metadata": {},
   "outputs": [
    {
     "ename": "SystemExit",
     "evalue": "0",
     "output_type": "error",
     "traceback": [
      "An exception has occurred, use %tb to see the full traceback.\n",
      "\u001b[31mSystemExit\u001b[39m\u001b[31m:\u001b[39m 0\n"
     ]
    },
    {
     "name": "stderr",
     "output_type": "stream",
     "text": [
      "c:\\Users\\gabri\\OneDrive\\Escritorio\\proyectos\\.venv\\Lib\\site-packages\\IPython\\core\\interactiveshell.py:3707: UserWarning: To exit: use 'exit', 'quit', or Ctrl-D.\n",
      "  warn(\"To exit: use 'exit', 'quit', or Ctrl-D.\", stacklevel=1)\n"
     ]
    }
   ],
   "source": [
    "# Pausar ejecución hasta que el usuario siga manualmente\n",
    "import sys\n",
    "sys.exit(0)"
   ]
  },
  {
   "cell_type": "markdown",
   "id": "cbda05a3",
   "metadata": {},
   "source": [
    "# **power automate**"
   ]
  },
  {
   "cell_type": "code",
   "execution_count": null,
   "id": "abe357ea",
   "metadata": {},
   "outputs": [
    {
     "name": "stdout",
     "output_type": "stream",
     "text": [
      "🚀 Abriendo Power BI...\n",
      "🎹 ALT...\n",
      "🎹 A (Archivo)...\n",
      "🎹 Enter (entrar al menú Archivo)...\n",
      "🎹 7 veces ↓ (hasta Exportar)...\n",
      "🎹 Enter (abrir Exportar)...\n",
      "🎹 ↓ (seleccionar Exportar a PDF)...\n",
      "🎹 Enter (abrir Exportar a PDF)...\n",
      "🖫 En Chrome: CTRL + S...\n",
      "💾 Guardando en: C:\\Users\\gabri\\OneDrive\\Escritorio\\proyectos\\auditory_market\\dashboards\\guardados\\dashboard.pdf\n",
      "⚠️ Si aparece confirmación de reemplazo: mover a 'Sí' y presionar Enter...\n",
      "🛑 Cerrando Power BI...\n",
      "✅ Power BI cerrado con la X.\n"
     ]
    }
   ],
   "source": [
    "import time\n",
    "import pyautogui\n",
    "from pywinauto import Application\n",
    "\n",
    "pbix_file = r\"C:\\Users\\gabri\\OneDrive\\Escritorio\\proyectos\\auditory_market\\dashboards\\dahsboard.pbix\"\n",
    "pbidesktop_path = r\"C:\\Program Files\\Microsoft Power BI Desktop\\bin\\PBIDesktop.exe\"\n",
    "\n",
    "print(\"🚀 Abriendo Power BI...\")\n",
    "app = Application(backend=\"uia\").start(f'\"{pbidesktop_path}\" \"{pbix_file}\"')\n",
    "main = app.window(title_re=r\".*dahsboard.*|.*\\.pbix.*\")\n",
    "main.wait('visible', timeout=180)\n",
    "main.set_focus()\n",
    "time.sleep(3)\n",
    "\n",
    "# Forzar foco con click # Esta linea no se usa \n",
    "rect = main.rectangle()\n",
    "pyautogui.click(rect.left + 50, rect.top + 50)\n",
    "time.sleep(6)\n",
    "\n",
    "# ALT → activar KeyTips\n",
    "print(\"🎹 ALT...\")\n",
    "pyautogui.press(\"alt\")\n",
    "time.sleep(2)\n",
    "\n",
    "# A → abrir Archivo\n",
    "print(\"🎹 A (Archivo)...\")\n",
    "pyautogui.press(\"a\")\n",
    "time.sleep(1.3)\n",
    "\n",
    "# Enter → entrar al menú Archivo\n",
    "print(\"🎹 Enter (entrar al menú Archivo)...\")\n",
    "pyautogui.press(\"enter\")\n",
    "time.sleep(0.9)\n",
    "\n",
    "# 7 veces ↓ → Exportar\n",
    "print(\"🎹 7 veces ↓ (hasta Exportar)...\")\n",
    "pyautogui.press(\"down\", presses=7, interval=0.4)\n",
    "time.sleep(0.3)\n",
    "\n",
    "# Enter → abrir Exportar\n",
    "print(\"🎹 Enter (abrir Exportar)...\")\n",
    "pyautogui.press(\"enter\")\n",
    "time.sleep(0.3)\n",
    "\n",
    "# ↓ → Exportar a PDF\n",
    "print(\"🎹 ↓ (seleccionar Exportar a PDF)...\")\n",
    "pyautogui.press(\"down\")\n",
    "time.sleep(0.3)\n",
    "\n",
    "# Enter → abrir PDF en Chrome\n",
    "print(\"🎹 Enter (abrir Exportar a PDF)...\")\n",
    "pyautogui.press(\"enter\")\n",
    "time.sleep(8)\n",
    "\n",
    "# --- CTRL+S en Chrome para abrir el diálogo Guardar ---\n",
    "print(\"🖫 En Chrome: CTRL + S...\")\n",
    "time.sleep(1)          # pequeño respiro para que Chrome termine de cargar el PDF\n",
    "pyautogui.hotkey(\"ctrl\", \"s\")\n",
    "time.sleep(1)          # espera a que aparezca el cuadro \"Guardar como\"\n",
    "\n",
    "# --- Escribir la ruta completa del archivo en el cuadro Guardar como ---\n",
    "pdf_file = r\"C:\\Users\\gabri\\OneDrive\\Escritorio\\proyectos\\auditory_market\\dashboards\\guardados\\dashboard.pdf\"\n",
    "\n",
    "print(f\"💾 Guardando en: {pdf_file}\")\n",
    "time.sleep(0.3)\n",
    "\n",
    "# Escribir ruta completa\n",
    "pyautogui.typewrite(pdf_file)\n",
    "time.sleep(0.3)\n",
    "\n",
    "# Enter para confirmar guardado\n",
    "pyautogui.press(\"enter\")\n",
    "time.sleep(0.3)\n",
    "\n",
    "# --- Confirmar reemplazo si aparece popup ---\n",
    "time.sleep(0.2)  # darle un respiro a Chrome para mostrar el aviso\n",
    "print(\"⚠️ Si aparece confirmación de reemplazo: mover a 'Sí' y presionar Enter...\")\n",
    "pyautogui.press(\"left\")   # mover selección a \"Sí\"\n",
    "time.sleep(0.2)\n",
    "pyautogui.press(\"enter\")  # confirmar\n",
    "\n",
    "# --- Cerrar Power BI con la X ---\n",
    "print(\"🛑 Cerrando Power BI...\")\n",
    "try:\n",
    "    main.close()  # intenta cerrar con el botón X\n",
    "    time.sleep(2)\n",
    "    print(\"✅ Power BI cerrado con la X.\")\n",
    "except Exception as e:\n",
    "    print(\"⚠️ No se pudo cerrar con la X, forzando kill:\", e)\n",
    "    app.kill()\n",
    "\n",
    "\n",
    "\n",
    "\n",
    "\n"
   ]
  },
  {
   "cell_type": "code",
   "execution_count": null,
   "id": "5737bc16",
   "metadata": {},
   "outputs": [
    {
     "name": "stdout",
     "output_type": "stream",
     "text": [
      "✅ Correo enviado correctamente.\n"
     ]
    }
   ],
   "source": [
    "EMAIL_USER = os.getenv(\"ALERT_EMAIL\")   # tu correo remitente\n",
    "EMAIL_PASS = os.getenv(\"ALERT_PASS\")   # tu contraseña / app password\n",
    "EMAIL_TO   = 'gabriel.garcia@utp.edu.co'     # destinatario (o varios separados por coma)\n",
    "\n",
    "# Ruta del PDF (el que ya generaste con tu script)\n",
    "pdf_file = r\"C:\\Users\\gabri\\OneDrive\\Escritorio\\proyectos\\auditory_market\\dashboards\\guardados\\dashboard.pdf\"\n",
    "\n",
    "def enviar_informe():\n",
    "    msg = MIMEMultipart()\n",
    "    msg[\"From\"] = EMAIL_USER\n",
    "    msg[\"To\"] = EMAIL_TO\n",
    "    msg[\"Subject\"] = \"📊 Informe automático - Dashboard actualizado\"\n",
    "\n",
    "    # Cuerpo del correo\n",
    "    body = \"Hola,\\n\\nAdjunto encontrarás el informe actualizado en PDF.\\n\\nSaludos.\"\n",
    "    msg.attach(MIMEText(body, \"plain\"))\n",
    "\n",
    "\n",
    "    # 📎 Adjuntar archivo PDF\n",
    "    with open(pdf_file, \"rb\") as f:  # Abrir el PDF en modo binario (lectura de bytes)\n",
    "        part = MIMEBase(\"application\", \"octet-stream\")  # Crear contenedor MIME para archivo binario genérico\n",
    "        part.set_payload(f.read())  # Cargar el contenido del PDF en el contenedor\n",
    "        encoders.encode_base64(part)  # Codificar en base64 (SMTP solo acepta texto ASCII)\n",
    "        # Agregar encabezado indicando que es un adjunto y su nombre de archivo\n",
    "        part.add_header(\"Content-Disposition\", f'attachment; filename=\"{os.path.basename(pdf_file)}\"')\n",
    "        msg.attach(part)  # Adjuntar el PDF al mensaje principal (MIMEMultipart)\n",
    "\n",
    "    # 📤 Enviar correo (ejemplo con Gmail)\n",
    "    try:\n",
    "        server = smtplib.SMTP(\"smtp.gmail.com\", 587)  # Conectar al servidor SMTP de Gmail en puerto 587\n",
    "        server.starttls()  # Iniciar conexión segura (TLS)\n",
    "        server.login(EMAIL_USER, EMAIL_PASS)  # Autenticarse con usuario y contraseña/token\n",
    "        # Enviar correo: remitente, lista de destinatarios y mensaje en formato cadena\n",
    "        server.sendmail(EMAIL_USER, EMAIL_TO.split(\",\"), msg.as_string())\n",
    "        server.quit()  # Cerrar conexión con el servidor\n",
    "        print(\"✅ Correo enviado correctamente.\")\n",
    "    except Exception as e:\n",
    "        print(\"❌ Error al enviar correo:\", e)  # Capturar y mostrar error si algo falla\n",
    "\n",
    "# ▶ Ejecutar la función de envío\n",
    "enviar_informe()\n"
   ]
  }
 ],
 "metadata": {
  "kernelspec": {
   "display_name": ".venv",
   "language": "python",
   "name": "python3"
  },
  "language_info": {
   "codemirror_mode": {
    "name": "ipython",
    "version": 3
   },
   "file_extension": ".py",
   "mimetype": "text/x-python",
   "name": "python",
   "nbconvert_exporter": "python",
   "pygments_lexer": "ipython3",
   "version": "3.11.0"
  }
 },
 "nbformat": 4,
 "nbformat_minor": 5
}
